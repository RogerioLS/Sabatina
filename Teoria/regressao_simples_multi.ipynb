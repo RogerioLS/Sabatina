{
 "cells": [
  {
   "cell_type": "code",
   "execution_count": 1,
   "metadata": {},
   "outputs": [],
   "source": [
    "import numpy as np\n",
    "import matplotlib.pyplot as plt\n",
    "import pandas as pd\n",
    "import seaborn as sns\n",
    "from typing import Union\n",
    "\n",
    "%matplotlib inline"
   ]
  },
  {
   "cell_type": "code",
   "execution_count": 2,
   "metadata": {},
   "outputs": [
    {
     "name": "stderr",
     "output_type": "stream",
     "text": [
      "c:\\Users\\Dell\\anaconda3\\Lib\\site-packages\\seaborn\\_oldcore.py:1498: FutureWarning: is_categorical_dtype is deprecated and will be removed in a future version. Use isinstance(dtype, CategoricalDtype) instead\n",
      "  if pd.api.types.is_categorical_dtype(vector):\n",
      "c:\\Users\\Dell\\anaconda3\\Lib\\site-packages\\seaborn\\_oldcore.py:1498: FutureWarning: is_categorical_dtype is deprecated and will be removed in a future version. Use isinstance(dtype, CategoricalDtype) instead\n",
      "  if pd.api.types.is_categorical_dtype(vector):\n"
     ]
    },
    {
     "data": {
      "image/png": "[encoded data removed]",
      "text/plain": [
       "<Figure size 1500x500 with 1 Axes>"
      ]
     },
     "metadata": {},
     "output_type": "display_data"
    }
   ],
   "source": [
    "# exemplo de plots não determinísticos\n",
    "det_x = np.arange(0, 10, 0.1)\n",
    "det_y = 2 * det_x + np.random.normal(size=100)\n",
    "\n",
    "# transformando em data frame não deterministicos\n",
    "series = pd.Series(det_y, det_x)\n",
    "df = pd.DataFrame(series, columns = ['det_y'])\n",
    "df.reset_index(drop = False, inplace = True)\n",
    "df = df.rename(columns = {'index':'det_x'})\n",
    "\n",
    "feature_name_non = \"det_x\"\n",
    "target_name_non = \"det_y\"\n",
    "data_non, target_non = df[[feature_name_non]], df[target_name_non]\n",
    "\n",
    "plt.figure(figsize=(15,5), constrained_layout=False)\n",
    "\n",
    "ax = sns.scatterplot(data=df, x=feature_name_non, y=target_name_non,\n",
    "\t\t\t\t\tcolor=\"blue\", alpha=0.5)\n",
    "ax.set_title(\"Não Determinístico\")\n",
    "\n",
    "_ = plt.show()"
   ]
  },
  {
   "cell_type": "markdown",
   "metadata": {},
   "source": [
    "# Matemática em ação calculo da Regressão Linear populacional\n",
    "---\n",
    "O calculo da Regressão Linear para encontrar um ponto que ainda não consta na base de dados pode ser definida pela expressão abaixo:\n",
    "\n",
    "$y$ = $\\beta_0 + \\beta_1.X + \\epsilon$\n",
    "\n",
    "$y$ $\\Rightarrow$ é a variável dependente, ou seja, o valor previsto.\n",
    "\n",
    "$\\beta_0$ $\\Rightarrow$ é o coeficiente que intercepta ou que corta o eixo y.\n",
    " \n",
    "$\\beta_1$ $\\Rightarrow$ é o coeficiente que define a inclinação da reta.\n",
    "\n",
    "$X$ $\\Rightarrow$ é a variável independente, ou seja, a variável preditora.\n",
    "\n",
    "Para representar a relação entre uma variável dependente ($y$) e uma variável independente ($x$), usamos o modelo\n",
    "que determina uma linha reta com inclinação $\\beta_1$ e intercepto $\\beta_0$, com a variável aleatória (erro) $\\varepsilon$, considerada normalmente distribuída com $E(\\varepsilon) = 0$.\n",
    "\n",
    "Para simplificar, vamos assumir a premissa de que o valor médio da variável $\\varepsilon$ para um dado valor de $x$ é $0$.\n",
    "\n",
    "Outro ponto é que vamos ter que criar novas colunas tais como:\n",
    "\n",
    "- Regressão Linear não é linear e função afim, onde o mesmo peso de entrada tem que refletir na sua saida:\n",
    "\t- x = 1 => y = 2\n",
    "\t- x = 2 => y = 4"
   ]
  },
  {
   "cell_type": "code",
   "execution_count": 3,
   "metadata": {},
   "outputs": [],
   "source": [
    "def beta_1(df: pd.DataFrame) -> Union[float, pd.DataFrame]:\n",
    "\t\"\"\"\n",
    "\tCalcula a inclinação β₁.\n",
    "\n",
    "\tA fórmula para β₁ é:\n",
    "\n",
    "\tβ₁ = (n Σ xᵢyᵢ - Σ xᵢ Σ yᵢ) / (n Σ xᵢ² - (Σ xᵢ)²)\n",
    "\n",
    "\tOnde:\n",
    "\t* xᵢ: posição no eixo X do plano cartesiano.\n",
    "\t* yᵢ: posição no eixo Y do plano cartesiano.\n",
    "\t* i: índice do i-ésimo valor de X e Y.\n",
    "\t* n: número de pares ordenados na base de dados.\n",
    "\t* Σ: operador de somatório.\n",
    "\t\n",
    "\tArgs:\n",
    "\tdf (pd.DataFrame): DataFrame contendo as colunas 'x' e 'y'.\n",
    "\n",
    "\tReturn:\n",
    "\tpd.DataFrame: DataFrame com uma nova coluna 'beta_1' contendo o\n",
    "\tcálculo da inclinação.\n",
    "\n",
    "\tβ₁:\n",
    "\t* Séria o impacto ou peso multiplica por x.\n",
    "\t\"\"\"\n",
    "\tdf['det_xy'] = df['det_x'] * df['det_y']\n",
    "\tdf['det_x^2'] = df['det_x'] ** 2\n",
    "\tdf['det_y^2'] = df['det_y'] ** 2\n",
    "\n",
    "\tn = len(df)\n",
    "\tsigmaXi = sum(df['det_x'])\n",
    "\tsigmaYi= sum(df['det_y'])\n",
    "\tsigmaXiYi =sum(df['det_xy'])\n",
    "\tsigmaXi2 = sum(df['det_x^2'])\n",
    "\n",
    "\tprint(f\"Número de pares ordenados utilizado na base: {n}\")\n",
    "\tprint(f\"Somatorio da coluna X: {sigmaXi}\")\n",
    "\tprint(f\"Somatorio da coluna Y: {sigmaYi}\")\n",
    "\tprint(f\"Somatorio da coluna X e Y: {sigmaXiYi}\")\n",
    "\tprint(f\"Somatorio da coluna X ao quadrado: {sigmaXi2}\")\n",
    "\n",
    "\tb1 = ((n * sigmaXiYi) - (sigmaXi * sigmaYi)) / ((n * sigmaXi2) - (sigmaXi ** 2))\n",
    "\n",
    "\treturn b1, df"
   ]
  },
  {
   "cell_type": "code",
   "execution_count": 4,
   "metadata": {},
   "outputs": [
    {
     "name": "stdout",
     "output_type": "stream",
     "text": [
      "Número de pares ordenados utilizado na base: 100\n",
      "Somatorio da coluna X: 495.0\n",
      "Somatorio da coluna Y: 985.9678829503376\n",
      "Somatorio da coluna X e Y: 6599.325390989253\n",
      "Somatorio da coluna X ao quadrado: 3283.5000000000005\n",
      "2.0627475192140183\n"
     ]
    },
    {
     "data": {
      "text/html": [
       "<div>\n",
       "<style scoped>\n",
       "    .dataframe tbody tr th:only-of-type {\n",
       "        vertical-align: middle;\n",
       "    }\n",
       "\n",
       "    .dataframe tbody tr th {\n",
       "        vertical-align: top;\n",
       "    }\n",
       "\n",
       "    .dataframe thead th {\n",
       "        text-align: right;\n",
       "    }\n",
       "</style>\n",
       "<table border=\"1\" class=\"dataframe\">\n",
       "  <thead>\n",
       "    <tr style=\"text-align: right;\">\n",
       "      <th></th>\n",
       "      <th>det_x</th>\n",
       "      <th>det_y</th>\n",
       "      <th>det_xy</th>\n",
       "      <th>det_x^2</th>\n",
       "      <th>det_y^2</th>\n",
       "    </tr>\n",
       "  </thead>\n",
       "  <tbody>\n",
       "    <tr>\n",
       "      <th>0</th>\n",
       "      <td>0.0</td>\n",
       "      <td>-0.299365</td>\n",
       "      <td>-0.000000</td>\n",
       "      <td>0.00</td>\n",
       "      <td>0.089619</td>\n",
       "    </tr>\n",
       "    <tr>\n",
       "      <th>1</th>\n",
       "      <td>0.1</td>\n",
       "      <td>0.179720</td>\n",
       "      <td>0.017972</td>\n",
       "      <td>0.01</td>\n",
       "      <td>0.032299</td>\n",
       "    </tr>\n",
       "    <tr>\n",
       "      <th>2</th>\n",
       "      <td>0.2</td>\n",
       "      <td>0.537314</td>\n",
       "      <td>0.107463</td>\n",
       "      <td>0.04</td>\n",
       "      <td>0.288707</td>\n",
       "    </tr>\n",
       "    <tr>\n",
       "      <th>3</th>\n",
       "      <td>0.3</td>\n",
       "      <td>0.198571</td>\n",
       "      <td>0.059571</td>\n",
       "      <td>0.09</td>\n",
       "      <td>0.039430</td>\n",
       "    </tr>\n",
       "    <tr>\n",
       "      <th>4</th>\n",
       "      <td>0.4</td>\n",
       "      <td>-1.642267</td>\n",
       "      <td>-0.656907</td>\n",
       "      <td>0.16</td>\n",
       "      <td>2.697042</td>\n",
       "    </tr>\n",
       "  </tbody>\n",
       "</table>\n",
       "</div>"
      ],
      "text/plain": [
       "   det_x     det_y    det_xy  det_x^2   det_y^2\n",
       "0    0.0 -0.299365 -0.000000     0.00  0.089619\n",
       "1    0.1  0.179720  0.017972     0.01  0.032299\n",
       "2    0.2  0.537314  0.107463     0.04  0.288707\n",
       "3    0.3  0.198571  0.059571     0.09  0.039430\n",
       "4    0.4 -1.642267 -0.656907     0.16  2.697042"
      ]
     },
     "execution_count": 4,
     "metadata": {},
     "output_type": "execute_result"
    }
   ],
   "source": [
    "b1, df = beta_1(df)\n",
    "print(b1)\n",
    "df.head()"
   ]
  },
  {
   "cell_type": "code",
   "execution_count": 5,
   "metadata": {},
   "outputs": [],
   "source": [
    "def\tbeta_0(b1: float, df: pd.DataFrame) -> Union[float, pd.DataFrame]:\n",
    "\t\"\"\"\n",
    "\tCalcula o intercepto β₀ usando a fórmula:\n",
    "\n",
    "\tβ₀ = (Σy - β₁ Σx) / n\n",
    "\n",
    "\tOnde:\n",
    "\t* β₁: coeficiente que define a inclinação da reta.\n",
    "\t* Σx: somatório dos valores de x.\n",
    "\t* Σy: somatório dos valores de y.\n",
    "\t* n: número de pares ordenados na base de dados.\n",
    "\n",
    "\tParâmetros:\n",
    "\tb1 (float): Coeficiente da inclinação β₁.\n",
    "\tdf (pd.DataFrame): DataFrame contendo as colunas 'det_x' e 'det_y'.\n",
    "\n",
    "\tRetorna:\n",
    "\tUnion[float, pd.DataFrame]: O valor de β₀ ou um DataFrame modificado.\n",
    "\t\"\"\"\n",
    "\n",
    "\tn = len(df)\n",
    "\tsigmaXi = sum(df['det_x'])\n",
    "\tsigmaYi = sum(df['det_y'])\n",
    "\tprint(f\"Número de pares ordenados utilizado na base: {n}\")\n",
    "\tprint(f\"Somatorio da coluna X: {sigmaXi}\")\n",
    "\tprint(f\"Somatorio da coluna Y: {sigmaYi}\")\n",
    "\tprint(f\"Coeficiente que define a inclinação da reta: {b1}\")\n",
    "\n",
    "\tb0 = ((sigmaYi) - (b1 * sigmaXi)) / n\n",
    "\n",
    "\treturn b0"
   ]
  },
  {
   "cell_type": "code",
   "execution_count": 6,
   "metadata": {},
   "outputs": [
    {
     "name": "stdout",
     "output_type": "stream",
     "text": [
      "Número de pares ordenados utilizado na base: 100\n",
      "Somatorio da coluna X: 495.0\n",
      "Somatorio da coluna Y: 985.9678829503376\n",
      "Coeficiente que define a inclinação da reta: 2.0627475192140183\n"
     ]
    },
    {
     "data": {
      "text/plain": [
       "-0.35092139060601424"
      ]
     },
     "execution_count": 6,
     "metadata": {},
     "output_type": "execute_result"
    }
   ],
   "source": [
    "b0 = beta_0(b1, df)\n",
    "b0"
   ]
  },
  {
   "cell_type": "code",
   "execution_count": 7,
   "metadata": {},
   "outputs": [
    {
     "name": "stdout",
     "output_type": "stream",
     "text": [
      "y = -0.35092139060601424 + 2.0627475192140183 * X\n"
     ]
    }
   ],
   "source": [
    "# b0 é o menor custo que ele pode ter.\n",
    "# b1 vai +/- ser duas vezes o valor.\n",
    "print(f\"y = {b0} + {b1} * X\")"
   ]
  },
  {
   "cell_type": "code",
   "execution_count": 8,
   "metadata": {},
   "outputs": [
    {
     "data": {
      "text/plain": [
       "9.24085457373917"
      ]
     },
     "execution_count": 8,
     "metadata": {},
     "output_type": "execute_result"
    }
   ],
   "source": [
    "# input do valor de x que não consta em nossos dados.\n",
    "x = 4.65\n",
    "y = b0 + (b1 * x)\n",
    "y"
   ]
  },
  {
   "cell_type": "code",
   "execution_count": 9,
   "metadata": {},
   "outputs": [
    {
     "name": "stderr",
     "output_type": "stream",
     "text": [
      "c:\\Users\\Dell\\anaconda3\\Lib\\site-packages\\seaborn\\_oldcore.py:1498: FutureWarning: is_categorical_dtype is deprecated and will be removed in a future version. Use isinstance(dtype, CategoricalDtype) instead\n",
      "  if pd.api.types.is_categorical_dtype(vector):\n",
      "c:\\Users\\Dell\\anaconda3\\Lib\\site-packages\\seaborn\\_oldcore.py:1498: FutureWarning: is_categorical_dtype is deprecated and will be removed in a future version. Use isinstance(dtype, CategoricalDtype) instead\n",
      "  if pd.api.types.is_categorical_dtype(vector):\n"
     ]
    },
    {
     "data": {
      "image/png": "[encoded data removed]",
      "text/plain": [
       "<Figure size 640x480 with 1 Axes>"
      ]
     },
     "metadata": {},
     "output_type": "display_data"
    }
   ],
   "source": [
    "# encontrando o ponto no grafico com os valores de X e Y\n",
    "point = pd.DataFrame({'x': [4.65], 'y': [9.27]})\n",
    "plt.figure(constrained_layout=True)\n",
    "ax = sns.scatterplot(data = df, x = feature_name_non, y = target_name_non, \n",
    "\t\t\t\t\tcolor = \"blue\", alpha = 0.5)\n",
    "\n",
    "label = \"x {0:.2f} e y {1:.2f}\"\n",
    "ax = point.plot(x='x', y='y', ax=ax, marker='o', markersize=4, color=\"red\", label=label.format(x, y))\n",
    "ax.legend(loc='center left', bbox_to_anchor=(-0.25, 1.25), ncol=1)\n",
    "\n",
    "eixo_x = x\n",
    "plt.axvline(x= eixo_x, ymin=0, ymax=0.47, color=\"black\", linestyle=\"--\")\n",
    "\n",
    "eixo_y = y\n",
    "plt.axhline(y= eixo_y, xmin=0, xmax=0.465, color=\"black\", linestyle=\"--\")\n",
    "\n",
    "plt.annotate(\"Ponto Calculado\", (.65, 9.5), fontsize=15)\n",
    "\n",
    "_ = ax.set_title(\"Não Determinístico\")"
   ]
  },
  {
   "cell_type": "code",
   "execution_count": 10,
   "metadata": {},
   "outputs": [],
   "source": [
    "def linear_model_predict(x, beta_um, beta_zero):\n",
    "\t\"\"\"Linear model funcao y = a * x + b\"\"\"\n",
    "\ty = x * beta_um + beta_zero\n",
    "\treturn y"
   ]
  },
  {
   "cell_type": "code",
   "execution_count": 11,
   "metadata": {},
   "outputs": [
    {
     "data": {
      "text/plain": [
       "0   -0.350921\n",
       "1   -0.144647\n",
       "2    0.061628\n",
       "3    0.267903\n",
       "4    0.474178\n",
       "Name: det_x, dtype: float64"
      ]
     },
     "execution_count": 11,
     "metadata": {},
     "output_type": "execute_result"
    }
   ],
   "source": [
    "reta_ajuste = linear_model_predict(df['det_x'], b1, b0)\n",
    "reta_ajuste[:5]"
   ]
  },
  {
   "cell_type": "code",
   "execution_count": 12,
   "metadata": {},
   "outputs": [
    {
     "name": "stderr",
     "output_type": "stream",
     "text": [
      "c:\\Users\\Dell\\anaconda3\\Lib\\site-packages\\seaborn\\_oldcore.py:1498: FutureWarning: is_categorical_dtype is deprecated and will be removed in a future version. Use isinstance(dtype, CategoricalDtype) instead\n",
      "  if pd.api.types.is_categorical_dtype(vector):\n",
      "c:\\Users\\Dell\\anaconda3\\Lib\\site-packages\\seaborn\\_oldcore.py:1498: FutureWarning: is_categorical_dtype is deprecated and will be removed in a future version. Use isinstance(dtype, CategoricalDtype) instead\n",
      "  if pd.api.types.is_categorical_dtype(vector):\n"
     ]
    },
    {
     "data": {
      "image/png": "[encoded data removed]",
      "text/plain": [
       "<Figure size 640x480 with 1 Axes>"
      ]
     },
     "metadata": {},
     "output_type": "display_data"
    }
   ],
   "source": [
    "# Plot da reta de melhor ajuste\n",
    "plt.figure(constrained_layout=True)\n",
    "ax = sns.scatterplot(data=df, x=feature_name_non, y=target_name_non,\n",
    "\t\t\t\t\t color=\"blue\", alpha=0.5)\n",
    "\n",
    "label = \"Reta de melhor ajuste com b1 {0:.2f} * x + b0 {1:.2f}\"\n",
    "ax.plot(df['det_x'], reta_ajuste, color='r', linestyle='--', linewidth=2 ,label=label.format(b1, b0))\n",
    "ax.legend(loc='center left', bbox_to_anchor=(-0.25, 1.25), ncol=1)\n",
    "_ = ax.set_title(\"Não Determinístico\")"
   ]
  },
  {
   "cell_type": "code",
   "execution_count": 13,
   "metadata": {},
   "outputs": [
    {
     "name": "stdout",
     "output_type": "stream",
     "text": [
      "Erro Quadrático Médio: 0.9235790793697589\n",
      "Erro Absoluto Médio: 0.7454009081515675\n"
     ]
    }
   ],
   "source": [
    "def mean_squared_error(x, y, beta_um, beta_zero):\n",
    "\t\"\"\"\n",
    "\tCalcula o Erro Quadrático Médio (MSE) para um modelo de regressão linear.\n",
    "\n",
    "\tO MSE é uma medida da qualidade de um estimador — é sempre não-negativo,\n",
    "\te valores menores indicam um modelo melhor.\n",
    "\n",
    "\tArgs:\n",
    "\tx (list or pd.Series): Valores das variáveis independentes.\n",
    "\ty (list or pd.Series): Valores das variáveis dependentes observadas.\n",
    "\tbeta_um (float): Coeficiente da inclinação da reta de regressão (β₁).\n",
    "\tbeta_zero (float): Intercepto da reta de regressão (β₀).\n",
    "\n",
    "\tReturn:\n",
    "\tfloat: O Erro Quadrático Médio (MSE).\n",
    "\n",
    "\tUse exemple:\n",
    "\t```python\n",
    "\tmse = mean_squared_error([1, 2, 3], [2, 4, 6], 2, 0)\n",
    "\tprint(f\"Erro Quadrático Médio: {mse}\")\n",
    "\t```\n",
    "\tMSE:\n",
    "\t* É igual sqrt'mse'\n",
    "\t\"\"\"\n",
    "\tpredictions = [linear_model_predict(xi, beta_um, beta_zero) for xi in x]\n",
    "\tmse = sum([(y[i] - predictions[i]) ** 2 for i in range(len(y))]) / len(y)\n",
    "\n",
    "\tmae = sum([np.abs(y[i] - predictions[i]) for i in range(len(y))]) / len(y)\n",
    "\treturn mse, mae\n",
    "\n",
    "mse, mae = mean_squared_error(df['det_x'], df['det_y'], b1, b0)\n",
    "print(f\"Erro Quadrático Médio: {mse}\")\n",
    "print(f\"Erro Absoluto Médio: {mae}\")"
   ]
  },
  {
   "cell_type": "code",
   "execution_count": 14,
   "metadata": {},
   "outputs": [],
   "source": [
    "def calcular_erros(df, b1, b0):\n",
    "\t\"\"\"\n",
    "\tCalcula os erros de previsão para um modelo de regressão linear.\n",
    "\t\n",
    "\tParâmetros:\n",
    "\tdf (pd.DataFrame): DataFrame contendo as colunas 'det_x' e 'det_y'.\n",
    "\tb1 (float): Coeficiente da inclinação da reta de regressão (β₁).\n",
    "\tb0 (float): Intercepto da reta de regressão (β₀).\n",
    "\t\n",
    "\tRetorna:\n",
    "\tpd.Series: Série com os erros de previsão.\n",
    "\t\"\"\"\n",
    "\tdf['pred_y'] = df['det_x'] * b1 + b0\n",
    "\tdf['erro'] = df['det_y'] - df['pred_y']\n",
    "\treturn df"
   ]
  },
  {
   "cell_type": "code",
   "execution_count": 15,
   "metadata": {},
   "outputs": [
    {
     "data": {
      "text/html": [
       "<div>\n",
       "<style scoped>\n",
       "    .dataframe tbody tr th:only-of-type {\n",
       "        vertical-align: middle;\n",
       "    }\n",
       "\n",
       "    .dataframe tbody tr th {\n",
       "        vertical-align: top;\n",
       "    }\n",
       "\n",
       "    .dataframe thead th {\n",
       "        text-align: right;\n",
       "    }\n",
       "</style>\n",
       "<table border=\"1\" class=\"dataframe\">\n",
       "  <thead>\n",
       "    <tr style=\"text-align: right;\">\n",
       "      <th></th>\n",
       "      <th>det_x</th>\n",
       "      <th>det_y</th>\n",
       "      <th>det_xy</th>\n",
       "      <th>det_x^2</th>\n",
       "      <th>det_y^2</th>\n",
       "      <th>pred_y</th>\n",
       "      <th>erro</th>\n",
       "    </tr>\n",
       "  </thead>\n",
       "  <tbody>\n",
       "    <tr>\n",
       "      <th>0</th>\n",
       "      <td>0.0</td>\n",
       "      <td>-0.299365</td>\n",
       "      <td>-0.000000</td>\n",
       "      <td>0.00</td>\n",
       "      <td>0.089619</td>\n",
       "      <td>-0.350921</td>\n",
       "      <td>0.051557</td>\n",
       "    </tr>\n",
       "    <tr>\n",
       "      <th>1</th>\n",
       "      <td>0.1</td>\n",
       "      <td>0.179720</td>\n",
       "      <td>0.017972</td>\n",
       "      <td>0.01</td>\n",
       "      <td>0.032299</td>\n",
       "      <td>-0.144647</td>\n",
       "      <td>0.324367</td>\n",
       "    </tr>\n",
       "    <tr>\n",
       "      <th>2</th>\n",
       "      <td>0.2</td>\n",
       "      <td>0.537314</td>\n",
       "      <td>0.107463</td>\n",
       "      <td>0.04</td>\n",
       "      <td>0.288707</td>\n",
       "      <td>0.061628</td>\n",
       "      <td>0.475686</td>\n",
       "    </tr>\n",
       "    <tr>\n",
       "      <th>3</th>\n",
       "      <td>0.3</td>\n",
       "      <td>0.198571</td>\n",
       "      <td>0.059571</td>\n",
       "      <td>0.09</td>\n",
       "      <td>0.039430</td>\n",
       "      <td>0.267903</td>\n",
       "      <td>-0.069332</td>\n",
       "    </tr>\n",
       "    <tr>\n",
       "      <th>4</th>\n",
       "      <td>0.4</td>\n",
       "      <td>-1.642267</td>\n",
       "      <td>-0.656907</td>\n",
       "      <td>0.16</td>\n",
       "      <td>2.697042</td>\n",
       "      <td>0.474178</td>\n",
       "      <td>-2.116445</td>\n",
       "    </tr>\n",
       "  </tbody>\n",
       "</table>\n",
       "</div>"
      ],
      "text/plain": [
       "   det_x     det_y    det_xy  det_x^2   det_y^2    pred_y      erro\n",
       "0    0.0 -0.299365 -0.000000     0.00  0.089619 -0.350921  0.051557\n",
       "1    0.1  0.179720  0.017972     0.01  0.032299 -0.144647  0.324367\n",
       "2    0.2  0.537314  0.107463     0.04  0.288707  0.061628  0.475686\n",
       "3    0.3  0.198571  0.059571     0.09  0.039430  0.267903 -0.069332\n",
       "4    0.4 -1.642267 -0.656907     0.16  2.697042  0.474178 -2.116445"
      ]
     },
     "execution_count": 15,
     "metadata": {},
     "output_type": "execute_result"
    }
   ],
   "source": [
    "# Calcular erros\n",
    "df = calcular_erros(df, b1, b0)\n",
    "df.head()"
   ]
  },
  {
   "cell_type": "code",
   "execution_count": 16,
   "metadata": {},
   "outputs": [
    {
     "name": "stderr",
     "output_type": "stream",
     "text": [
      "c:\\Users\\Dell\\anaconda3\\Lib\\site-packages\\seaborn\\_oldcore.py:1498: FutureWarning: is_categorical_dtype is deprecated and will be removed in a future version. Use isinstance(dtype, CategoricalDtype) instead\n",
      "  if pd.api.types.is_categorical_dtype(vector):\n",
      "c:\\Users\\Dell\\anaconda3\\Lib\\site-packages\\seaborn\\_oldcore.py:1498: FutureWarning: is_categorical_dtype is deprecated and will be removed in a future version. Use isinstance(dtype, CategoricalDtype) instead\n",
      "  if pd.api.types.is_categorical_dtype(vector):\n"
     ]
    },
    {
     "data": {
      "image/png": "[encoded data removed]",
      "text/plain": [
       "<Figure size 640x480 with 1 Axes>"
      ]
     },
     "metadata": {},
     "output_type": "display_data"
    }
   ],
   "source": [
    "# Plotar o gráfico\n",
    "plt.figure(constrained_layout=True)\n",
    "ax = sns.scatterplot(data=df, x='det_x', y='det_y', color=\"blue\", alpha=0.5)\n",
    "\n",
    "label = f\"Reta de melhor ajuste com b1 {b1:.2f} * x + b0 {b0:.2f}\"\n",
    "ax.plot(df['det_x'], df['pred_y'], color='r', linestyle='--', linewidth=2, label=label)\n",
    "ax.legend(loc='center left', bbox_to_anchor=(-0.25, 1.25), ncol=1)\n",
    "\n",
    "# Plotar os erros\n",
    "for i in range(len(df)):\n",
    "\tplt.plot([df['det_x'][i], df['det_x'][i]], [df['det_y'][i], df['pred_y'][i]], 'k-', lw=0.5)\n",
    "\n",
    "_= ax.set_title(\"Reta de Regressão Linear\")"
   ]
  },
  {
   "attachments": {
    "image.png": {
     "image/png": "[encoded data removed]"
    }
   },
   "cell_type": "markdown",
   "metadata": {},
   "source": [
    "\n",
    "Derivada do erro é convecsa\n",
    "Conversa\n",
    "\n",
    "![image.png](attachment:image.png)\n",
    "\n",
    "w^ = estimado"
   ]
  },
  {
   "cell_type": "markdown",
   "metadata": {},
   "source": [
    "# Algebra Linear Numpy refresher\n",
    "---\n",
    "\n",
    "Plano:\n",
    "\n",
    "* Vector operations\n",
    "* Multiplication\n",
    "    * Vector-vector multiplication\n",
    "    * Matrix-vector multiplication\n",
    "    * Matrix-matrix multiplication\n",
    "* Identity matrix\n",
    "* Inverse"
   ]
  },
  {
   "cell_type": "code",
   "execution_count": 17,
   "metadata": {},
   "outputs": [],
   "source": [
    "import numpy as np"
   ]
  },
  {
   "cell_type": "markdown",
   "metadata": {},
   "source": [
    "### Operações com vetor\n",
    "\n",
    "---\n",
    "\n",
    "A multiplicação de um vetor por um escalar é feita multiplicando cada componente do vetor pelo escalar:\n",
    "\n",
    "$$2 \\times \\mathbf{u} = 2 \\times \\begin{bmatrix} 2 \\\\ 4 \\\\ 5 \\\\ 6 \\end{bmatrix} = \\begin{bmatrix} 2 \\times 2 \\\\ 2 \\times 4 \\\\ 2 \\times 5 \\\\ 2 \\times 6 \\end{bmatrix} = \\begin{bmatrix} 4 \\\\ 8 \\\\ 10 \\\\ 12 \\end{bmatrix}\n",
    "$$\n"
   ]
  },
  {
   "cell_type": "code",
   "execution_count": 18,
   "metadata": {},
   "outputs": [
    {
     "data": {
      "text/plain": [
       "array([ 4,  8, 10, 12])"
      ]
     },
     "execution_count": 18,
     "metadata": {},
     "output_type": "execute_result"
    }
   ],
   "source": [
    "u = np.array([2, 4, 5, 6])\n",
    "2 * u"
   ]
  },
  {
   "cell_type": "markdown",
   "metadata": {},
   "source": [
    "A soma de dois vetores $\\mathbf{u}$ e $\\mathbf{v}$ é feita somando-se os componentes correspondentes dos vetores:\n",
    "\n",
    "$$\\mathbf{u} = \\begin{bmatrix} 2 \\\\ 4 \\\\ 5 \\\\ 6 \\end{bmatrix}, \\quad \\mathbf{v} = \\begin{bmatrix} 1 \\\\ 0 \\\\ 0 \\\\ 2 \\end{bmatrix}\n",
    "$$\n",
    "\n",
    "$$\n",
    "\\mathbf{u} + \\mathbf{v} = \\begin{bmatrix} 2 \\\\ 4 \\\\ 5 \\\\ 6 \\end{bmatrix} + \\begin{bmatrix} 1 \\\\ 0 \\\\ 0 \\\\ 2 \\end{bmatrix} = \\begin{bmatrix} 2 + 1 \\\\ 4 + 0 \\\\ 5 + 0 \\\\ 6 + 2 \\end{bmatrix} = \\begin{bmatrix} 3 \\\\ 4 \\\\ 5 \\\\ 8 \\end{bmatrix}\n",
    "$$"
   ]
  },
  {
   "cell_type": "code",
   "execution_count": 19,
   "metadata": {},
   "outputs": [
    {
     "data": {
      "text/plain": [
       "array([3, 4, 5, 8])"
      ]
     },
     "execution_count": 19,
     "metadata": {},
     "output_type": "execute_result"
    }
   ],
   "source": [
    "v = np.array([1, 0, 0, 2])\n",
    "u + v"
   ]
  },
  {
   "cell_type": "markdown",
   "metadata": {},
   "source": [
    "A multiplicação elemento a elemento (produto Hadamard) dos vetores $\\mathbf{u}$ e $\\mathbf{v}$ é feita multiplicando os componentes correspondentes dos vetores:\n",
    "\n",
    "$$\n",
    "\\mathbf{u} = \\begin{bmatrix} 2 \\\\ 4 \\\\ 5 \\\\ 6 \\end{bmatrix}, \\quad \\mathbf{v} = \\begin{bmatrix} 1 \\\\ 0 \\\\ 0 \\\\ 2 \\end{bmatrix}\n",
    "$$\n",
    "\n",
    "$$\n",
    "\\mathbf{u} \\times \\mathbf{v} = \\begin{bmatrix} 2 \\\\ 4 \\\\ 5 \\\\ 6 \\end{bmatrix} \\times \\begin{bmatrix} 1 \\\\ 0 \\\\ 0 \\\\ 2 \\end{bmatrix} = \\begin{bmatrix} 2 \\times 1 \\\\ 4 \\times 0 \\\\ 5 \\times 0 \\\\ 6 \\times 2 \\end{bmatrix} = \\begin{bmatrix} 2 \\\\ 0 \\\\ 0 \\\\ 12 \\end{bmatrix}\n",
    "$$"
   ]
  },
  {
   "cell_type": "code",
   "execution_count": 20,
   "metadata": {},
   "outputs": [
    {
     "data": {
      "text/plain": [
       "array([ 2,  0,  0, 12])"
      ]
     },
     "execution_count": 20,
     "metadata": {},
     "output_type": "execute_result"
    }
   ],
   "source": [
    "u * v"
   ]
  },
  {
   "cell_type": "markdown",
   "metadata": {},
   "source": [
    "### Multiplication\n",
    "\n",
    "Cálculo do Produto Interno\n",
    "\n",
    "Dado os vetores $\\mathbf{u}$ e $\\mathbf{v}$:\n",
    "\n",
    "$$\n",
    "\\mathbf{u} = \\begin{bmatrix} u_1 \\\\ u_2 \\\\ \\vdots \\\\ u_n \\end{bmatrix}, \\quad \\mathbf{v} = \\begin{bmatrix} v_1 \\\\ v_2 \\\\ \\vdots \\\\ v_n \\end{bmatrix}\n",
    "$$\n",
    "\n",
    "O produto interno $\\mathbf{u} \\cdot \\mathbf{v}$ é dado por:\n",
    "\n",
    "$$\n",
    "\\mathbf{u} \\cdot \\mathbf{v} = u_1 \\times v_1 + u_2 \\times v_2 + \\cdots + u_n \\times v_n\n",
    "$$\n",
    "\n",
    "Para os vetores específicos $\\mathbf{u} = \\begin{bmatrix} 2 \\\\ 4 \\\\ 5 \\\\ 6 \\end{bmatrix}$ e $\\mathbf{v} = \\begin{bmatrix} 1 \\\\ 0 \\\\ 0 \\\\ 2 \\end{bmatrix}$, o cálculo será:\n",
    "\n",
    "$$\n",
    "\\mathbf{u} \\cdot \\mathbf{v} = 2 \\times 1 + 4 \\times 0 + 5 \\times 0 + 6 \\times 2 = 2 + 0 + 0 + 12 = 14\n",
    "$$\n"
   ]
  },
  {
   "cell_type": "code",
   "execution_count": 21,
   "metadata": {},
   "outputs": [
    {
     "name": "stdout",
     "output_type": "stream",
     "text": [
      "[1 0 0 2]\n",
      "4\n"
     ]
    }
   ],
   "source": [
    "print(v)\n",
    "print(v.shape[0])"
   ]
  },
  {
   "cell_type": "code",
   "execution_count": 22,
   "metadata": {},
   "outputs": [],
   "source": [
    "def\tvector_vector_multiplication(u, v):\n",
    "\tassert u.shape[0] == v.shape[0]\n",
    "\tn = u.shape[0]\n",
    "\n",
    "\tresult = 0.0\n",
    "\tfor i in range(n):\n",
    "\t\tresult = result + u[i] * v[i]\n",
    "\n",
    "\treturn result"
   ]
  },
  {
   "cell_type": "code",
   "execution_count": 23,
   "metadata": {},
   "outputs": [
    {
     "name": "stdout",
     "output_type": "stream",
     "text": [
      "funcao implementada: 14.0\n",
      "numpy: 14\n"
     ]
    }
   ],
   "source": [
    "print(f'funcao implementada: {vector_vector_multiplication(u, v)}')\n",
    "print(f'numpy: {u.dot(v)}')"
   ]
  },
  {
   "cell_type": "markdown",
   "metadata": {},
   "source": [
    "Multiplicação de Matriz por Vetor\n",
    "\n",
    "Dada a matriz $\\mathbf{U}$ e o vetor $\\mathbf{v}$:\n",
    "\n",
    "**Matriz** $\\mathbf{U}$\n",
    "\n",
    "$$\n",
    "\\mathbf{U} = \\begin{bmatrix} \n",
    "2 & 4 & 5 & 6 \\\\ \n",
    "1 & 2 & 1 & 2 \\\\ \n",
    "3 & 1 & 2 & 1 \n",
    "\\end{bmatrix}\n",
    "$$\n",
    "\n",
    "**Vetor** $\\mathbf{v}$\n",
    "\n",
    "$$\n",
    "\\mathbf{v} = \\begin{bmatrix} \n",
    "v_1 \\\\ \n",
    "v_2 \\\\ \n",
    "v_3 \\\\ \n",
    "v_4 \n",
    "\\end{bmatrix}\n",
    "$$\n",
    "\n",
    "Cálculo da Multiplicação $\\mathbf{U} \\times \\mathbf{v}$\n",
    "\n",
    "A multiplicação de uma matriz por um vetor é feita multiplicando cada linha da matriz pelo vetor, resultando em um novo vetor:\n",
    "\n",
    "$$\n",
    "\\mathbf{U} \\times \\mathbf{v} = \\begin{bmatrix} \n",
    "2 & 4 & 5 & 6 \\\\ \n",
    "1 & 2 & 1 & 2 \\\\ \n",
    "3 & 1 & 2 & 1 \n",
    "\\end{bmatrix} \\times \\begin{bmatrix} \n",
    "v_1 \\\\ \n",
    "v_2 \\\\ \n",
    "v_3 \\\\ \n",
    "v_4 \n",
    "\\end{bmatrix} \n",
    "$$\n",
    "\n",
    "O resultado é um novo vetor:\n",
    "\n",
    "$$\n",
    "\\mathbf{U} \\times \\mathbf{v} = \\begin{bmatrix} \n",
    "(2 \\times v_1) + (4 \\times v_2) + (5 \\times v_3) + (6 \\times v_4) \\\\ \n",
    "(1 \\times v_1) + (2 \\times v_2) + (1 \\times v_3) + (2 \\times v_4) \\\\ \n",
    "(3 \\times v_1) + (1 \\times v_2) + (2 \\times v_3) + (1 \\times v_4) \n",
    "\\end{bmatrix}\n",
    "$$\n"
   ]
  },
  {
   "cell_type": "code",
   "execution_count": 24,
   "metadata": {},
   "outputs": [
    {
     "name": "stdout",
     "output_type": "stream",
     "text": [
      "Corpo da matriz: (3, 4)\n",
      "Quantidade de colunas da matriz: 4\n",
      "Quantidade de linhas da matriz: 3\n"
     ]
    }
   ],
   "source": [
    "# Matriz U\n",
    "U = np.array([\n",
    "\t[2, 4, 5, 6],\n",
    "\t[1, 2, 1, 2],\n",
    "\t[3, 1, 2, 1],\n",
    "])\n",
    "print(f'Corpo da matriz: {U.shape}')\n",
    "print(f'Quantidade de colunas da matriz: {U.shape[1]}')\n",
    "print(f'Quantidade de linhas da matriz: {U.shape[0]}')"
   ]
  },
  {
   "cell_type": "code",
   "execution_count": 25,
   "metadata": {},
   "outputs": [],
   "source": [
    "def\tmatrix_vector_multiplication(U, v):\n",
    "\tassert U.shape[1] == v.shape[0]\n",
    "\n",
    "\tnum_rows = U.shape[0]\n",
    "\tresult = np.zeros(num_rows)\n",
    "\n",
    "\tfor i in range(num_rows):\n",
    "\t\tresult[i] = vector_vector_multiplication(U[i], v)\n",
    "\n",
    "\treturn result"
   ]
  },
  {
   "cell_type": "code",
   "execution_count": 26,
   "metadata": {},
   "outputs": [
    {
     "name": "stdout",
     "output_type": "stream",
     "text": [
      "funcao implementada: [14.  5.  5.]\n",
      "numpy: [14  5  5]\n"
     ]
    }
   ],
   "source": [
    "print(f'funcao implementada: {matrix_vector_multiplication(U, v)}')\n",
    "print(f'numpy: {U.dot(v)}')"
   ]
  },
  {
   "cell_type": "markdown",
   "metadata": {},
   "source": [
    "Multiplicação de Matriz por Matriz\n",
    "\n",
    "Dadas as matrizes $\\mathbf{U}$ e $\\mathbf{V}$:\n",
    "\n",
    "**Matriz** $\\mathbf{U}$\n",
    "\n",
    "$$\n",
    "\\mathbf{U} = \\begin{bmatrix} \n",
    "2 & 4 & 5 & 6 \\\\ \n",
    "1 & 2 & 1 & 2 \\\\ \n",
    "3 & 1 & 2 & 1 \n",
    "\\end{bmatrix}\n",
    "$$\n",
    "\n",
    "**Matriz** $\\mathbf{V}$\n",
    "\n",
    "$$\n",
    "\\mathbf{V} = \\begin{bmatrix} \n",
    "1 & 1 & 2 \\\\ \n",
    "0 & 0.5 & 1 \\\\ \n",
    "0 & 2 & 1 \\\\ \n",
    "2 & 1 & 0 \n",
    "\\end{bmatrix}\n",
    "$$\n",
    "\n",
    "Cálculo da Multiplicação $\\mathbf{U} \\times \\mathbf{V}$\n",
    "\n",
    "A multiplicação de duas matrizes é feita multiplicando cada linha da matriz $\\mathbf{U}$ por cada coluna da matriz $\\mathbf{V}$, resultando em uma nova matriz.\n",
    "\n",
    "O cálculo para a matriz resultante é dado por:\n",
    "\n",
    "$$\n",
    "\\mathbf{U} \\times \\mathbf{V} = \\begin{bmatrix} \n",
    "\\text{linha}_1 \\times \\text{coluna}_1 & \\text{linha}_1 \\times \\text{coluna}_2 & \\text{linha}_1 \\times \\text{coluna}_3 \\\\ \n",
    "\\text{linha}_2 \\times \\text{coluna}_1 & \\text{linha}_2 \\times \\text{coluna}_2 & \\text{linha}_2 \\times \\text{coluna}_3 \\\\ \n",
    "\\text{linha}_3 \\times \\text{coluna}_1 & \\text{linha}_3 \\times \\text{coluna}_2 & \\text{linha}_3 \\times \\text{coluna}_3 \n",
    "\\end{bmatrix}\n",
    "$$\n",
    "\n",
    "Para calcular cada elemento da matriz resultante, multiplicamos a respectiva linha da matriz $\\mathbf{U}$ pela respectiva coluna da matriz $\\mathbf{V}$ e somamos os produtos:\n",
    "\n",
    "$$\n",
    "\\mathbf{U} \\times \\mathbf{V} = \\begin{bmatrix} \n",
    "(2 \\times 1) + (4 \\times 0) + (5 \\times 0) + (6 \\times 2) & (2 \\times 1) + (4 \\times 0.5) + (5 \\times 2) + (6 \\times 1) & (2 \\times 2) + (4 \\times 1) + (5 \\times 1) + (6 \\times 0) \\\\ \n",
    "(1 \\times 1) + (2 \\times 0) + (1 \\times 0) + (2 \\times 2) & (1 \\times 1) + (2 \\times 0.5) + (1 \\times 2) + (2 \\times 1) & (1 \\times 2) + (2 \\times 1) + (1 \\times 1) + (2 \\times 0) \\\\ \n",
    "(3 \\times 1) + (1 \\times 0) + (2 \\times 0) + (1 \\times 2) & (3 \\times 1) + (1 \\times 0.5) + (2 \\times 2) + (1 \\times 1) & (3 \\times 2) + (1 \\times 1) + (2 \\times 1) + (1 \\times 0)\n",
    "\\end{bmatrix}\n",
    "$$\n"
   ]
  },
  {
   "cell_type": "code",
   "execution_count": 27,
   "metadata": {},
   "outputs": [
    {
     "name": "stdout",
     "output_type": "stream",
     "text": [
      "Corpo da matriz U: (3, 4)\n",
      "Quantidade de colunas da matriz U: 4\n",
      "Quantidade de linhas da matriz U: 3\n",
      "------------------------------------\n",
      "Corpo da matriz V: (4, 3)\n",
      "Quantidade de colunas da matriz V: 3\n",
      "Quantidade de linhas da matriz V: 4\n"
     ]
    }
   ],
   "source": [
    "V = np.array([\n",
    "\t[1, 1, 2],\n",
    "\t[0, 0.5, 1], \n",
    "\t[0, 2, 1],\n",
    "\t[2, 1, 0],\n",
    "])\n",
    "print(f'Corpo da matriz U: {U.shape}')\n",
    "print(f'Quantidade de colunas da matriz U: {U.shape[1]}')\n",
    "print(f'Quantidade de linhas da matriz U: {U.shape[0]}')\n",
    "print('------------------------------------')\n",
    "print(f'Corpo da matriz V: {V.shape}')\n",
    "print(f'Quantidade de colunas da matriz V: {V.shape[1]}')\n",
    "print(f'Quantidade de linhas da matriz V: {V.shape[0]}')"
   ]
  },
  {
   "cell_type": "code",
   "execution_count": 28,
   "metadata": {},
   "outputs": [],
   "source": [
    "def\tmatrix_matrix_multiplication(U, V):\n",
    "\tassert U.shape[1] == V.shape[0]\n",
    "\n",
    "\tnum_rows = U.shape[0]\n",
    "\tnum_cols = V.shape[1]\n",
    "\n",
    "\tresult = np.zeros((num_rows, num_cols))\n",
    "\tfor i in range(num_cols):\n",
    "\t\tvi = V[:, i]\n",
    "\t\tUvi = matrix_vector_multiplication(U, vi)\n",
    "\t\tresult[:, i] = Uvi\n",
    "\n",
    "\treturn result"
   ]
  },
  {
   "cell_type": "code",
   "execution_count": 29,
   "metadata": {},
   "outputs": [
    {
     "name": "stdout",
     "output_type": "stream",
     "text": [
      "funcao implementada:\n",
      " [[14.  20.  13. ]\n",
      " [ 5.   6.   5. ]\n",
      " [ 5.   8.5  9. ]]\n",
      "numpy:\n",
      " [[14.  20.  13. ]\n",
      " [ 5.   6.   5. ]\n",
      " [ 5.   8.5  9. ]]\n"
     ]
    }
   ],
   "source": [
    "print(f'funcao implementada:\\n {matrix_matrix_multiplication(U, V)}')\n",
    "print(f'numpy:\\n {U.dot(V)}')"
   ]
  },
  {
   "cell_type": "markdown",
   "metadata": {},
   "source": [
    "### Identity Matrix\n",
    "\n",
    "Multiplicação da Matriz $\\mathbf{V}$ pela Matriz Identidade $\\mathbf{I}_{\\text{imple}}$\n",
    "\n",
    "Dada a matriz $\\mathbf{V}$:\n",
    "\n",
    "$$\n",
    "\\mathbf{V} = \\begin{bmatrix}\n",
    "1 & 1 & 2 \\\\\n",
    "0 & 0.5 & 1 \\\\\n",
    "0 & 2 & 1 \\\\\n",
    "2 & 1 & 0\n",
    "\\end{bmatrix}\n",
    "$$\n",
    "\n",
    "E a matriz identidade $\\mathbf{I}_{\\text{imple}}$ gerada pela função `create_identity_matrix(U, V)`:\n",
    "\n",
    "$$\n",
    "\\mathbf{I}_{\\text{imple}} = \\begin{bmatrix}\n",
    "1 & 0 & 0 \\\\\n",
    "0 & 1 & 0 \\\\\n",
    "0 & 0 & 1\n",
    "\\end{bmatrix}\n",
    "$$\n",
    "\n",
    "A multiplicação de $\\mathbf{V}$ pela matriz identidade $\\mathbf{I}_{\\text{imple}}$ é calculada como segue:\n",
    "\n",
    "$$\n",
    "\\mathbf{V} \\times \\mathbf{I}_{\\text{imple}} = \\begin{bmatrix}\n",
    "1 & 1 & 2 \\\\\n",
    "0 & 0.5 & 1 \\\\\n",
    "0 & 2 & 1 \\\\\n",
    "2 & 1 & 0\n",
    "\\end{bmatrix}\n",
    "\\times\n",
    "\\begin{bmatrix}\n",
    "1 & 0 & 0 \\\\\n",
    "0 & 1 & 0 \\\\\n",
    "0 & 0 & 1\n",
    "\\end{bmatrix}\n",
    "$$\n",
    "\n",
    "O resultado da multiplicação é a própria matriz $\\mathbf{V}$:\n",
    "\n",
    "$$\n",
    "\\mathbf{V} \\times \\mathbf{I}_{\\text{imple}} = \\begin{bmatrix}\n",
    "1 & 1 & 2 \\\\\n",
    "0 & 0.5 & 1 \\\\\n",
    "0 & 2 & 1 \\\\\n",
    "2 & 1 & 0\n",
    "\\end{bmatrix}\n",
    "$$\n",
    "\n",
    "A multiplicação de qualquer matriz pela matriz identidade de dimensão correspondente resulta na própria matriz, como observado neste exemplo."
   ]
  },
  {
   "cell_type": "code",
   "execution_count": 30,
   "metadata": {},
   "outputs": [],
   "source": [
    "import numpy as np\n",
    "# diagonal principal\n",
    "def create_identity_matrix(U, V):\n",
    "\tassert U.shape[1] == V.shape[0]\n",
    "\n",
    "\tnum_rows = U.shape[0]\n",
    "\tnum_cols = V.shape[1]\n",
    "\n",
    "\tidentity_matrix = np.zeros((num_rows, num_cols))\n",
    "\n",
    "\tfor i in range(num_cols):\n",
    "\t\tidentity_matrix[i, i] = 1\n",
    "\n",
    "\treturn identity_matrix"
   ]
  },
  {
   "cell_type": "code",
   "execution_count": 31,
   "metadata": {},
   "outputs": [
    {
     "name": "stdout",
     "output_type": "stream",
     "text": [
      "funcao implementada:\n",
      " [[1. 0. 0.]\n",
      " [0. 1. 0.]\n",
      " [0. 0. 1.]]\n",
      "numpy:\n",
      " [[1. 0. 0.]\n",
      " [0. 1. 0.]\n",
      " [0. 0. 1.]]\n"
     ]
    }
   ],
   "source": [
    "print(f'funcao implementada:\\n {create_identity_matrix(U, V)}')\n",
    "print(f'numpy:\\n {np.eye(3)}')"
   ]
  },
  {
   "cell_type": "code",
   "execution_count": 32,
   "metadata": {},
   "outputs": [
    {
     "name": "stdout",
     "output_type": "stream",
     "text": [
      "funcao implementada:\n",
      " [[1.  1.  2. ]\n",
      " [0.  0.5 1. ]\n",
      " [0.  2.  1. ]\n",
      " [2.  1.  0. ]]\n",
      "numpy:\n",
      " [[1.  1.  2. ]\n",
      " [0.  0.5 1. ]\n",
      " [0.  2.  1. ]\n",
      " [2.  1.  0. ]]\n"
     ]
    }
   ],
   "source": [
    "I_imple = create_identity_matrix(U, V)\n",
    "I_numpy = np.eye(3)\n",
    "print(f'funcao implementada:\\n {matrix_matrix_multiplication(V, I_imple)}')\n",
    "print(f'numpy:\\n {V.dot(I_numpy)}')"
   ]
  },
  {
   "cell_type": "markdown",
   "metadata": {},
   "source": [
    "### Inverse\n",
    "\n",
    "Cálculo da Matriz Inversa\n",
    "\n",
    "Matriz Original $\\mathbf{V}$\n",
    "\n",
    "Dada a matriz $\\mathbf{V}$:\n",
    "\n",
    "$$\n",
    "\\mathbf{V} = \\begin{bmatrix}\n",
    "1 & 1 & 2 \\\\\n",
    "0 & 0.5 & 1 \\\\\n",
    "0 & 2 & 1 \\\\\n",
    "2 & 1 & 0\n",
    "\\end{bmatrix}\n",
    "$$\n",
    "\n",
    "**Passo 1: Construir a Matriz Aumentada**\n",
    "\n",
    "Para calcular a inversa de $\\mathbf{V}$, primeiro construímos a matriz aumentada $[\\mathbf{V} | \\mathbf{I}]$, onde $\\mathbf{I}$ é a matriz identidade de mesma ordem.\n",
    "\n",
    "$$\n",
    "[\\mathbf{V} | \\mathbf{I}] = \\left[\\begin{array}{ccc|ccc}\n",
    "1 & 1 & 2 & 1 & 0 & 0 \\\\\n",
    "0 & 0.5 & 1 & 0 & 1 & 0 \\\\\n",
    "0 & 2 & 1 & 0 & 0 & 1 \\\\\n",
    "2 & 1 & 0 & 0 & 0 & 0 \\\\\n",
    "\\end{array}\\right]\n",
    "$$\n",
    "\n",
    "**Passo 2: Aplicar a Eliminação de Gauss-Jordan**\n",
    "\n",
    "A seguir, aplicamos operações de linha para transformar a matriz $\\mathbf{V}$ em uma matriz identidade. Simultaneamente, as operações de linha serão aplicadas à matriz identidade à direita.\n",
    "\n",
    "**Subpasso 2.1: Tornar o Elemento $a_{11} = 1$ (Se necessário)**\n",
    "\n",
    "Nesse caso, o elemento $a_{11} = 1$, então não precisamos modificar a primeira linha.\n",
    "\n",
    "**Subpasso 2.2: Eliminar o Elemento $a_{21}$ e $a_{31}$ Abaixo de $a_{11}$**\n",
    "\n",
    "Subtrair 2 vezes a primeira linha da quarta linha para eliminar o elemento abaixo de $a_{11}$:\n",
    "\n",
    "$$\n",
    "\\left[\\begin{array}{ccc|ccc}\n",
    "1 & 1 & 2 & 1 & 0 & 0 \\\\\n",
    "0 & 0.5 & 1 & 0 & 1 & 0 \\\\\n",
    "0 & 2 & 1 & 0 & 0 & 1 \\\\\n",
    "0 & -1 & -4 & -2 & 0 & 0 \\\\\n",
    "\\end{array}\\right]\n",
    "$$\n",
    "\n",
    "**Subpasso 2.3: Tornar o Elemento $a_{22} = 1$ (Se necessário)**\n",
    "\n",
    "Multiplicar a segunda linha por $2$ para tornar $a_{22} = 1$:\n",
    "\n",
    "$$\n",
    "\\left[\\begin{array}{ccc|ccc}\n",
    "1 & 1 & 2 & 1 & 0 & 0 \\\\\n",
    "0 & 1 & 2 & 0 & 2 & 0 \\\\\n",
    "0 & 2 & 1 & 0 & 0 & 1 \\\\\n",
    "0 & -1 & -4 & -2 & 0 & 0 \\\\\n",
    "\\end{array}\\right]\n",
    "$$\n",
    "\n",
    "**Subpasso 2.4: Eliminar o Elemento $a_{12}$ e $a_{32}$**\n",
    "\n",
    "Subtrair a segunda linha da primeira linha e multiplicar a terceira linha por $-1$ e adicionar à quarta linha para eliminar o elemento abaixo de $a_{22}$:\n",
    "\n",
    "$$\n",
    "\\left[\\begin{array}{ccc|ccc}\n",
    "1 & 0 & 0 & 1 & -2 & 0 \\\\\n",
    "0 & 1 & 2 & 0 & 2 & 0 \\\\\n",
    "0 & 0 & -3 & 0 & -4 & 1 \\\\\n",
    "0 & 0 & -2 & -2 & 2 & 0 \\\\\n",
    "\\end{array}\\right]\n",
    "$$\n",
    "\n",
    "**Subpasso 2.5: Tornar o Elemento $a_{33} = 1$**\n",
    "\n",
    "Multiplicar a terceira linha por $-1/3$ para tornar $a_{33} = 1$:\n",
    "\n",
    "$$\n",
    "\\left[\\begin{array}{ccc|ccc}\n",
    "1 & 0 & 0 & 1 & -2 & 0 \\\\\n",
    "0 & 1 & 2 & 0 & 2 & 0 \\\\\n",
    "0 & 0 & 1 & 0 & \\frac{4}{3} & -\\frac{1}{3} \\\\\n",
    "0 & 0 & -2 & -2 & 2 & 0 \\\\\n",
    "\\end{array}\\right]\n",
    "$$\n",
    "\n",
    "**Subpasso 2.6: Eliminar os Elementos Acima de $a_{33}$**\n",
    "\n",
    "Adicionar duas vezes a terceira linha à segunda linha para eliminar $a_{23}$ e duas vezes a terceira linha à quarta linha para eliminar $a_{34}$:\n",
    "\n",
    "$$\n",
    "\\left[\\begin{array}{ccc|ccc}\n",
    "1 & 0 & 0 & 1 & -2 & 0 \\\\\n",
    "0 & 1 & 0 & 0 & \\frac{2}{3} & \\frac{2}{3} \\\\\n",
    "0 & 0 & 1 & 0 & \\frac{4}{3} & -\\frac{1}{3} \\\\\n",
    "0 & 0 & 0 & -2 & 0 & \\frac{2}{3} \\\\\n",
    "\\end{array}\\right]\n",
    "$$\n",
    "\n",
    "Multiplicar a quarta linha por $-1/2$ para obter:\n",
    "\n",
    "$$\n",
    "\\left[\\begin{array}{ccc|ccc}\n",
    "1 & 0 & 0 & 1 & -2 & 0 \\\\\n",
    "0 & 1 & 0 & 0 & \\frac{2}{3} & \\frac{2}{3} \\\\\n",
    "0 & 0 & 1 & 0 & \\frac{4}{3} & -\\frac{1}{3} \\\\\n",
    "0 & 0 & 0 & 1 & 0 & -\\frac{1}{3} \\\\\n",
    "\\end{array}\\right]\n",
    "$$\n",
    "\n",
    "**Subpasso 2.7: Resultado da Inversa**\n",
    "\n",
    "Após realizar todas as operações de linha, a matriz inversa $\\mathbf{V}^{-1}$ será:\n",
    "\n",
    "$$\n",
    "\\mathbf{V}^{-1} = \\begin{bmatrix}\n",
    "1 & -2 & 0 \\\\\n",
    "0 & -\\frac{2}{3} & \\frac{2}{3} \\\\\n",
    "0 & \\frac{4}{3} & -\\frac{1}{3}\n",
    "\\end{bmatrix}\n",
    "$$\n"
   ]
  },
  {
   "cell_type": "code",
   "execution_count": 33,
   "metadata": {},
   "outputs": [
    {
     "data": {
      "text/plain": [
       "array([[1. , 1. , 2. ],\n",
       "       [0. , 0.5, 1. ],\n",
       "       [0. , 2. , 1. ]])"
      ]
     },
     "execution_count": 33,
     "metadata": {},
     "output_type": "execute_result"
    }
   ],
   "source": [
    "Vs = V[[0, 1, 2]]\n",
    "Vs"
   ]
  },
  {
   "cell_type": "code",
   "execution_count": 34,
   "metadata": {},
   "outputs": [
    {
     "data": {
      "text/plain": [
       "array([[ 1.        , -2.        ,  0.        ],\n",
       "       [ 0.        , -0.66666667,  0.66666667],\n",
       "       [ 0.        ,  1.33333333, -0.33333333]])"
      ]
     },
     "execution_count": 34,
     "metadata": {},
     "output_type": "execute_result"
    }
   ],
   "source": [
    "Vs_inv = np.linalg.inv(Vs)\n",
    "Vs_inv"
   ]
  },
  {
   "cell_type": "markdown",
   "metadata": {},
   "source": [
    "### Machine Learning para regressão"
   ]
  },
  {
   "cell_type": "code",
   "execution_count": 35,
   "metadata": {},
   "outputs": [],
   "source": [
    "import pandas as pd\n",
    "import numpy as np"
   ]
  },
  {
   "cell_type": "code",
   "execution_count": 36,
   "metadata": {},
   "outputs": [],
   "source": [
    "## 'https://raw.githubusercontent.com/alexeygrigorev/mlbookcamp-code/master/chapter-02-car-price/data.csv'\n",
    "df = pd.read_csv('data.csv')"
   ]
  },
  {
   "cell_type": "code",
   "execution_count": 37,
   "metadata": {},
   "outputs": [],
   "source": [
    "df.columns = df.columns.str.lower().str.replace(' ', '_')\n",
    "df['make'].str.lower().str.replace(' ', '_')\n",
    "strings = list(df.dtypes[df.dtypes == 'object'].index)\n",
    "#strings\n",
    "for col in strings:\n",
    "    df[col] = df[col].str.lower().str.replace(' ', '_')"
   ]
  },
  {
   "cell_type": "markdown",
   "metadata": {},
   "source": [
    "Distribuicao de preços"
   ]
  },
  {
   "cell_type": "code",
   "execution_count": 38,
   "metadata": {},
   "outputs": [],
   "source": [
    "import matplotlib.pyplot as plt\n",
    "import seaborn as sns\n",
    "\n",
    "%matplotlib inline"
   ]
  },
  {
   "cell_type": "code",
   "execution_count": 39,
   "metadata": {},
   "outputs": [
    {
     "name": "stderr",
     "output_type": "stream",
     "text": [
      "c:\\Users\\Dell\\anaconda3\\Lib\\site-packages\\seaborn\\_oldcore.py:1498: FutureWarning: is_categorical_dtype is deprecated and will be removed in a future version. Use isinstance(dtype, CategoricalDtype) instead\n",
      "  if pd.api.types.is_categorical_dtype(vector):\n",
      "c:\\Users\\Dell\\anaconda3\\Lib\\site-packages\\seaborn\\_oldcore.py:1119: FutureWarning: use_inf_as_na option is deprecated and will be removed in a future version. Convert inf values to NaN before operating instead.\n",
      "  with pd.option_context('mode.use_inf_as_na', True):\n"
     ]
    },
    {
     "data": {
      "text/plain": [
       "<Axes: xlabel='msrp', ylabel='Count'>"
      ]
     },
     "execution_count": 39,
     "metadata": {},
     "output_type": "execute_result"
    },
    {
     "data": {
      "image/png": "[encoded data removed]",
      "text/plain": [
       "<Figure size 640x480 with 1 Axes>"
      ]
     },
     "metadata": {},
     "output_type": "display_data"
    }
   ],
   "source": [
    "sns.histplot(df.msrp, bins=50)"
   ]
  },
  {
   "cell_type": "code",
   "execution_count": 40,
   "metadata": {},
   "outputs": [
    {
     "name": "stderr",
     "output_type": "stream",
     "text": [
      "c:\\Users\\Dell\\anaconda3\\Lib\\site-packages\\seaborn\\_oldcore.py:1498: FutureWarning: is_categorical_dtype is deprecated and will be removed in a future version. Use isinstance(dtype, CategoricalDtype) instead\n",
      "  if pd.api.types.is_categorical_dtype(vector):\n",
      "c:\\Users\\Dell\\anaconda3\\Lib\\site-packages\\seaborn\\_oldcore.py:1119: FutureWarning: use_inf_as_na option is deprecated and will be removed in a future version. Convert inf values to NaN before operating instead.\n",
      "  with pd.option_context('mode.use_inf_as_na', True):\n"
     ]
    },
    {
     "data": {
      "text/plain": [
       "<Axes: xlabel='msrp', ylabel='Count'>"
      ]
     },
     "execution_count": 40,
     "metadata": {},
     "output_type": "execute_result"
    },
    {
     "data": {
      "image/png": "[encoded data removed]",
      "text/plain": [
       "<Figure size 640x480 with 1 Axes>"
      ]
     },
     "metadata": {},
     "output_type": "display_data"
    }
   ],
   "source": [
    "sns.histplot(df.msrp[df.msrp < 100000], bins=50)"
   ]
  },
  {
   "cell_type": "code",
   "execution_count": 41,
   "metadata": {},
   "outputs": [
    {
     "name": "stderr",
     "output_type": "stream",
     "text": [
      "c:\\Users\\Dell\\anaconda3\\Lib\\site-packages\\seaborn\\_oldcore.py:1498: FutureWarning: is_categorical_dtype is deprecated and will be removed in a future version. Use isinstance(dtype, CategoricalDtype) instead\n",
      "  if pd.api.types.is_categorical_dtype(vector):\n",
      "c:\\Users\\Dell\\anaconda3\\Lib\\site-packages\\seaborn\\_oldcore.py:1119: FutureWarning: use_inf_as_na option is deprecated and will be removed in a future version. Convert inf values to NaN before operating instead.\n",
      "  with pd.option_context('mode.use_inf_as_na', True):\n"
     ]
    },
    {
     "data": {
      "text/plain": [
       "<Axes: xlabel='msrp', ylabel='Count'>"
      ]
     },
     "execution_count": 41,
     "metadata": {},
     "output_type": "execute_result"
    },
    {
     "data": {
      "image/png": "[encoded data removed]",
      "text/plain": [
       "<Figure size 640x480 with 1 Axes>"
      ]
     },
     "metadata": {},
     "output_type": "display_data"
    }
   ],
   "source": [
    "price_logs = np.log1p(df.msrp)\n",
    "sns.histplot(price_logs, bins=50)"
   ]
  },
  {
   "cell_type": "code",
   "execution_count": 42,
   "metadata": {},
   "outputs": [
    {
     "data": {
      "text/plain": [
       "make                    0\n",
       "model                   0\n",
       "year                    0\n",
       "engine_fuel_type        3\n",
       "engine_hp              69\n",
       "engine_cylinders       30\n",
       "transmission_type       0\n",
       "driven_wheels           0\n",
       "number_of_doors         6\n",
       "market_category      3742\n",
       "vehicle_size            0\n",
       "vehicle_style           0\n",
       "highway_mpg             0\n",
       "city_mpg                0\n",
       "popularity              0\n",
       "msrp                    0\n",
       "dtype: int64"
      ]
     },
     "execution_count": 42,
     "metadata": {},
     "output_type": "execute_result"
    }
   ],
   "source": [
    "df.isnull().sum()"
   ]
  },
  {
   "cell_type": "markdown",
   "metadata": {},
   "source": [
    "Dados para treino e teste"
   ]
  },
  {
   "cell_type": "code",
   "execution_count": 43,
   "metadata": {},
   "outputs": [
    {
     "data": {
      "text/plain": [
       "(2382, 2382, 7150)"
      ]
     },
     "execution_count": 43,
     "metadata": {},
     "output_type": "execute_result"
    }
   ],
   "source": [
    "n = len(df)\n",
    "\n",
    "n_val = int(n * 0.2)\n",
    "n_test = int(n * 0.2)\n",
    "n_train = n - n_val - n_test\n",
    "n_val, n_test, n_train"
   ]
  },
  {
   "cell_type": "code",
   "execution_count": 44,
   "metadata": {},
   "outputs": [],
   "source": [
    "df_train = df.iloc[:n_train]\n",
    "df_val = df.iloc[n_train:n_train+n_val]\n",
    "df_test = df.iloc[n_train+n_val:]"
   ]
  },
  {
   "cell_type": "code",
   "execution_count": 45,
   "metadata": {},
   "outputs": [],
   "source": [
    "# random index\n",
    "idx = np.arange(n)\n",
    "np.random.seed(2)\n",
    "np.random.shuffle(idx)"
   ]
  },
  {
   "cell_type": "code",
   "execution_count": 46,
   "metadata": {},
   "outputs": [],
   "source": [
    "df_train = df.iloc[idx[:n_train]]\n",
    "df_val = df.iloc[idx[n_train:n_train+n_val]]\n",
    "df_test = df.iloc[idx[n_train+n_val:]]"
   ]
  },
  {
   "cell_type": "code",
   "execution_count": 47,
   "metadata": {},
   "outputs": [
    {
     "data": {
      "text/html": [
       "<div>\n",
       "<style scoped>\n",
       "    .dataframe tbody tr th:only-of-type {\n",
       "        vertical-align: middle;\n",
       "    }\n",
       "\n",
       "    .dataframe tbody tr th {\n",
       "        vertical-align: top;\n",
       "    }\n",
       "\n",
       "    .dataframe thead th {\n",
       "        text-align: right;\n",
       "    }\n",
       "</style>\n",
       "<table border=\"1\" class=\"dataframe\">\n",
       "  <thead>\n",
       "    <tr style=\"text-align: right;\">\n",
       "      <th></th>\n",
       "      <th>make</th>\n",
       "      <th>model</th>\n",
       "      <th>year</th>\n",
       "      <th>engine_fuel_type</th>\n",
       "      <th>engine_hp</th>\n",
       "      <th>engine_cylinders</th>\n",
       "      <th>transmission_type</th>\n",
       "      <th>driven_wheels</th>\n",
       "      <th>number_of_doors</th>\n",
       "      <th>market_category</th>\n",
       "      <th>vehicle_size</th>\n",
       "      <th>vehicle_style</th>\n",
       "      <th>highway_mpg</th>\n",
       "      <th>city_mpg</th>\n",
       "      <th>popularity</th>\n",
       "      <th>msrp</th>\n",
       "    </tr>\n",
       "  </thead>\n",
       "  <tbody>\n",
       "    <tr>\n",
       "      <th>2735</th>\n",
       "      <td>chevrolet</td>\n",
       "      <td>cobalt</td>\n",
       "      <td>2008</td>\n",
       "      <td>regular_unleaded</td>\n",
       "      <td>148.0</td>\n",
       "      <td>4.0</td>\n",
       "      <td>manual</td>\n",
       "      <td>front_wheel_drive</td>\n",
       "      <td>2.0</td>\n",
       "      <td>NaN</td>\n",
       "      <td>compact</td>\n",
       "      <td>coupe</td>\n",
       "      <td>33</td>\n",
       "      <td>24</td>\n",
       "      <td>1385</td>\n",
       "      <td>14410</td>\n",
       "    </tr>\n",
       "    <tr>\n",
       "      <th>6720</th>\n",
       "      <td>toyota</td>\n",
       "      <td>matrix</td>\n",
       "      <td>2012</td>\n",
       "      <td>regular_unleaded</td>\n",
       "      <td>132.0</td>\n",
       "      <td>4.0</td>\n",
       "      <td>automatic</td>\n",
       "      <td>front_wheel_drive</td>\n",
       "      <td>4.0</td>\n",
       "      <td>hatchback</td>\n",
       "      <td>compact</td>\n",
       "      <td>4dr_hatchback</td>\n",
       "      <td>32</td>\n",
       "      <td>25</td>\n",
       "      <td>2031</td>\n",
       "      <td>19685</td>\n",
       "    </tr>\n",
       "    <tr>\n",
       "      <th>5878</th>\n",
       "      <td>subaru</td>\n",
       "      <td>impreza</td>\n",
       "      <td>2016</td>\n",
       "      <td>regular_unleaded</td>\n",
       "      <td>148.0</td>\n",
       "      <td>4.0</td>\n",
       "      <td>automatic</td>\n",
       "      <td>all_wheel_drive</td>\n",
       "      <td>4.0</td>\n",
       "      <td>hatchback</td>\n",
       "      <td>compact</td>\n",
       "      <td>4dr_hatchback</td>\n",
       "      <td>37</td>\n",
       "      <td>28</td>\n",
       "      <td>640</td>\n",
       "      <td>19795</td>\n",
       "    </tr>\n",
       "    <tr>\n",
       "      <th>11190</th>\n",
       "      <td>volkswagen</td>\n",
       "      <td>vanagon</td>\n",
       "      <td>1991</td>\n",
       "      <td>regular_unleaded</td>\n",
       "      <td>90.0</td>\n",
       "      <td>4.0</td>\n",
       "      <td>manual</td>\n",
       "      <td>rear_wheel_drive</td>\n",
       "      <td>3.0</td>\n",
       "      <td>NaN</td>\n",
       "      <td>large</td>\n",
       "      <td>passenger_minivan</td>\n",
       "      <td>18</td>\n",
       "      <td>16</td>\n",
       "      <td>873</td>\n",
       "      <td>2000</td>\n",
       "    </tr>\n",
       "    <tr>\n",
       "      <th>4554</th>\n",
       "      <td>ford</td>\n",
       "      <td>f-150</td>\n",
       "      <td>2017</td>\n",
       "      <td>flex-fuel_(unleaded/e85)</td>\n",
       "      <td>385.0</td>\n",
       "      <td>8.0</td>\n",
       "      <td>automatic</td>\n",
       "      <td>four_wheel_drive</td>\n",
       "      <td>4.0</td>\n",
       "      <td>flex_fuel</td>\n",
       "      <td>large</td>\n",
       "      <td>crew_cab_pickup</td>\n",
       "      <td>21</td>\n",
       "      <td>15</td>\n",
       "      <td>5657</td>\n",
       "      <td>56260</td>\n",
       "    </tr>\n",
       "  </tbody>\n",
       "</table>\n",
       "</div>"
      ],
      "text/plain": [
       "             make    model  year          engine_fuel_type  engine_hp  \\\n",
       "2735    chevrolet   cobalt  2008          regular_unleaded      148.0   \n",
       "6720       toyota   matrix  2012          regular_unleaded      132.0   \n",
       "5878       subaru  impreza  2016          regular_unleaded      148.0   \n",
       "11190  volkswagen  vanagon  1991          regular_unleaded       90.0   \n",
       "4554         ford    f-150  2017  flex-fuel_(unleaded/e85)      385.0   \n",
       "\n",
       "       engine_cylinders transmission_type      driven_wheels  number_of_doors  \\\n",
       "2735                4.0            manual  front_wheel_drive              2.0   \n",
       "6720                4.0         automatic  front_wheel_drive              4.0   \n",
       "5878                4.0         automatic    all_wheel_drive              4.0   \n",
       "11190               4.0            manual   rear_wheel_drive              3.0   \n",
       "4554                8.0         automatic   four_wheel_drive              4.0   \n",
       "\n",
       "      market_category vehicle_size      vehicle_style  highway_mpg  city_mpg  \\\n",
       "2735              NaN      compact              coupe           33        24   \n",
       "6720        hatchback      compact      4dr_hatchback           32        25   \n",
       "5878        hatchback      compact      4dr_hatchback           37        28   \n",
       "11190             NaN        large  passenger_minivan           18        16   \n",
       "4554        flex_fuel        large    crew_cab_pickup           21        15   \n",
       "\n",
       "       popularity   msrp  \n",
       "2735         1385  14410  \n",
       "6720         2031  19685  \n",
       "5878          640  19795  \n",
       "11190         873   2000  \n",
       "4554         5657  56260  "
      ]
     },
     "execution_count": 47,
     "metadata": {},
     "output_type": "execute_result"
    }
   ],
   "source": [
    "df_train.head()"
   ]
  },
  {
   "cell_type": "code",
   "execution_count": 48,
   "metadata": {},
   "outputs": [
    {
     "data": {
      "text/plain": [
       "(7150, 2382, 2382)"
      ]
     },
     "execution_count": 48,
     "metadata": {},
     "output_type": "execute_result"
    }
   ],
   "source": [
    "len(df_train), len(df_val), len(df_test)"
   ]
  },
  {
   "cell_type": "code",
   "execution_count": 49,
   "metadata": {},
   "outputs": [],
   "source": [
    "df_train = df_train.reset_index(drop=True)\n",
    "df_val = df_val.reset_index(drop=True)\n",
    "df_test = df_test.reset_index(drop=True)"
   ]
  },
  {
   "cell_type": "code",
   "execution_count": 50,
   "metadata": {},
   "outputs": [],
   "source": [
    "y_train = np.log1p(df_train.msrp.values)\n",
    "y_val = np.log1p(df_val.msrp.values)\n",
    "y_test = np.log1p(df_test.msrp.values)"
   ]
  },
  {
   "cell_type": "code",
   "execution_count": 51,
   "metadata": {},
   "outputs": [],
   "source": [
    "del df_train['msrp']\n",
    "del df_val['msrp']\n",
    "del df_test['msrp']"
   ]
  },
  {
   "cell_type": "code",
   "execution_count": 52,
   "metadata": {},
   "outputs": [
    {
     "data": {
      "text/plain": [
       "7150"
      ]
     },
     "execution_count": 52,
     "metadata": {},
     "output_type": "execute_result"
    }
   ],
   "source": [
    "len(y_train)"
   ]
  },
  {
   "cell_type": "markdown",
   "metadata": {},
   "source": [
    "### Car price baseline model\n",
    "\n",
    "A função `train_linear_regression` implementa o treinamento de um modelo de regressão linear usando o método dos mínimos quadrados. O objetivo é encontrar os coeficientes $w$ que minimizam a soma dos erros quadrados entre as previsões do modelo e os valores reais.\n",
    "\n",
    "**Passos:**\n",
    "\n",
    "1. **Adicionando o Termo de Interceptação**:\n",
    "   - Adiciona uma coluna de 1s à matriz de características $X$ para incluir o termo de interceptação $w_0$ no modelo.\n",
    "\n",
    "2. **Calculando $X^T \\cdot X$**:\n",
    "   - Calcula a matriz de covariância $X^T \\cdot X$, onde $X^T$ é a transposta da matriz $X$.\n",
    "\n",
    "3. **Calculando a Inversa de $X^T \\cdot X$**:\n",
    "   - Calcula a inversa da matriz $(X^T \\cdot X)^{-1}$.\n",
    "\n",
    "4. **Calculando os Coeficientes $w$**:\n",
    "   - Resolve a equação normal para encontrar os coeficientes $w$:\n",
    "     $$\n",
    "     w = (X^T \\cdot X)^{-1} \\cdot X^T \\cdot y\n",
    "     $$\n",
    "   - `w_full[0]` corresponde ao termo de interceptação $w_0$.\n",
    "   - `w_full[1:]` corresponde aos coeficientes $w_1, w_2, \\ldots, w_n$.\n",
    "\n",
    "**Fórmula da Regressão Linear:**\n",
    "\n",
    "$$\n",
    "\\hat{y} = w_0 + w_1x_1 + w_2x_2 + \\ldots + w_nx_n\n",
    "$$\n",
    "\n",
    "Onde:\n",
    "- $\\hat{y}$ é o valor predito.\n",
    "- $w_0$ é o termo de interceptação.\n",
    "- $w_1, w_2, \\ldots, w_n$ são os coeficientes das variáveis independentes $x_1, x_2, \\ldots, x_n$.\n",
    "\n",
    "**Retorno:**\n",
    "\n",
    "- **Intercepto** $w_0$\n",
    "- **Coeficientes** $w_1, w_2, \\ldots, w_n$"
   ]
  },
  {
   "cell_type": "code",
   "execution_count": 53,
   "metadata": {},
   "outputs": [],
   "source": [
    "def train_linear_regression(X, y):\n",
    "    ones = np.ones(X.shape[0])\n",
    "    X = np.column_stack([ones, X])\n",
    "\n",
    "    XTX = X.T.dot(X)\n",
    "    XTX_inv = np.linalg.inv(XTX)\n",
    "    w = XTX_inv.dot(X.T).dot(y)\n",
    "\n",
    "    return w[0], w[1:]"
   ]
  },
  {
   "cell_type": "code",
   "execution_count": 54,
   "metadata": {},
   "outputs": [
    {
     "data": {
      "text/plain": [
       "Index(['make', 'model', 'year', 'engine_fuel_type', 'engine_hp',\n",
       "       'engine_cylinders', 'transmission_type', 'driven_wheels',\n",
       "       'number_of_doors', 'market_category', 'vehicle_size', 'vehicle_style',\n",
       "       'highway_mpg', 'city_mpg', 'popularity'],\n",
       "      dtype='object')"
      ]
     },
     "execution_count": 54,
     "metadata": {},
     "output_type": "execute_result"
    }
   ],
   "source": [
    "df_train.columns"
   ]
  },
  {
   "cell_type": "code",
   "execution_count": 55,
   "metadata": {},
   "outputs": [],
   "source": [
    "base = ['engine_hp', 'engine_cylinders', 'highway_mpg',\n",
    "        'city_mpg', 'popularity']\n",
    "\n",
    "X_train = df_train[base].fillna(0).values\n",
    "\n",
    "w0, w = train_linear_regression(X_train, y_train)\n",
    "\n",
    "y_pred = w0 + X_train.dot(w)"
   ]
  },
  {
   "cell_type": "code",
   "execution_count": 56,
   "metadata": {},
   "outputs": [
    {
     "data": {
      "text/plain": [
       "7.927257388070117"
      ]
     },
     "execution_count": 56,
     "metadata": {},
     "output_type": "execute_result"
    }
   ],
   "source": [
    "w0"
   ]
  },
  {
   "cell_type": "code",
   "execution_count": 57,
   "metadata": {},
   "outputs": [
    {
     "data": {
      "text/plain": [
       "array([ 9.70589522e-03, -1.59103494e-01,  1.43792133e-02,  1.49441072e-02,\n",
       "       -9.06908672e-06])"
      ]
     },
     "execution_count": 57,
     "metadata": {},
     "output_type": "execute_result"
    }
   ],
   "source": [
    "w"
   ]
  },
  {
   "cell_type": "code",
   "execution_count": 61,
   "metadata": {},
   "outputs": [
    {
     "name": "stderr",
     "output_type": "stream",
     "text": [
      "c:\\Users\\Dell\\anaconda3\\Lib\\site-packages\\seaborn\\_oldcore.py:1498: FutureWarning: is_categorical_dtype is deprecated and will be removed in a future version. Use isinstance(dtype, CategoricalDtype) instead\n",
      "  if pd.api.types.is_categorical_dtype(vector):\n",
      "c:\\Users\\Dell\\anaconda3\\Lib\\site-packages\\seaborn\\_oldcore.py:1119: FutureWarning: use_inf_as_na option is deprecated and will be removed in a future version. Convert inf values to NaN before operating instead.\n",
      "  with pd.option_context('mode.use_inf_as_na', True):\n",
      "c:\\Users\\Dell\\anaconda3\\Lib\\site-packages\\seaborn\\_oldcore.py:1498: FutureWarning: is_categorical_dtype is deprecated and will be removed in a future version. Use isinstance(dtype, CategoricalDtype) instead\n",
      "  if pd.api.types.is_categorical_dtype(vector):\n",
      "c:\\Users\\Dell\\anaconda3\\Lib\\site-packages\\seaborn\\_oldcore.py:1119: FutureWarning: use_inf_as_na option is deprecated and will be removed in a future version. Convert inf values to NaN before operating instead.\n",
      "  with pd.option_context('mode.use_inf_as_na', True):\n"
     ]
    },
    {
     "data": {
      "text/plain": [
       "<Axes: ylabel='Count'>"
      ]
     },
     "execution_count": 61,
     "metadata": {},
     "output_type": "execute_result"
    },
    {
     "data": {
      "image/png": "[encoded data removed]",
      "text/plain": [
       "<Figure size 640x480 with 1 Axes>"
      ]
     },
     "metadata": {},
     "output_type": "display_data"
    }
   ],
   "source": [
    "sns.histplot(y_pred, color='red', alpha=0.5, bins=50)\n",
    "sns.histplot(y_train, color='blue', alpha=0.5, bins=50)"
   ]
  },
  {
   "cell_type": "markdown",
   "metadata": {},
   "source": [
    "### RMSE"
   ]
  },
  {
   "cell_type": "code",
   "execution_count": 62,
   "metadata": {},
   "outputs": [
    {
     "data": {
      "text/plain": [
       "0.7554192603920132"
      ]
     },
     "execution_count": 62,
     "metadata": {},
     "output_type": "execute_result"
    }
   ],
   "source": [
    "def rmse(y, y_pred):\n",
    "\tse = (y - y_pred) ** 2\n",
    "\tmse = se.mean()\n",
    "\treturn np.sqrt(mse)\n",
    "rmse(y_train, y_pred)"
   ]
  },
  {
   "cell_type": "markdown",
   "metadata": {},
   "source": [
    "### Validacao do modelo"
   ]
  },
  {
   "cell_type": "code",
   "execution_count": 63,
   "metadata": {},
   "outputs": [],
   "source": [
    "def prepare_X(df):\n",
    "    df_num = df[base]\n",
    "    df_num = df_num.fillna(0)\n",
    "    X = df_num.values\n",
    "    return X"
   ]
  },
  {
   "cell_type": "code",
   "execution_count": 64,
   "metadata": {},
   "outputs": [
    {
     "data": {
      "text/plain": [
       "0.7616530991301601"
      ]
     },
     "execution_count": 64,
     "metadata": {},
     "output_type": "execute_result"
    }
   ],
   "source": [
    "X_train = prepare_X(df_train)\n",
    "w0, w = train_linear_regression(X_train, y_train)\n",
    "\n",
    "X_val = prepare_X(df_val)\n",
    "y_pred = w0 + X_val.dot(w)\n",
    "rmse(y_val, y_pred)"
   ]
  },
  {
   "cell_type": "code",
   "execution_count": 65,
   "metadata": {},
   "outputs": [
    {
     "name": "stderr",
     "output_type": "stream",
     "text": [
      "c:\\Users\\Dell\\anaconda3\\Lib\\site-packages\\seaborn\\_oldcore.py:1498: FutureWarning: is_categorical_dtype is deprecated and will be removed in a future version. Use isinstance(dtype, CategoricalDtype) instead\n",
      "  if pd.api.types.is_categorical_dtype(vector):\n",
      "c:\\Users\\Dell\\anaconda3\\Lib\\site-packages\\seaborn\\_oldcore.py:1119: FutureWarning: use_inf_as_na option is deprecated and will be removed in a future version. Convert inf values to NaN before operating instead.\n",
      "  with pd.option_context('mode.use_inf_as_na', True):\n",
      "c:\\Users\\Dell\\anaconda3\\Lib\\site-packages\\seaborn\\_oldcore.py:1498: FutureWarning: is_categorical_dtype is deprecated and will be removed in a future version. Use isinstance(dtype, CategoricalDtype) instead\n",
      "  if pd.api.types.is_categorical_dtype(vector):\n",
      "c:\\Users\\Dell\\anaconda3\\Lib\\site-packages\\seaborn\\_oldcore.py:1119: FutureWarning: use_inf_as_na option is deprecated and will be removed in a future version. Convert inf values to NaN before operating instead.\n",
      "  with pd.option_context('mode.use_inf_as_na', True):\n"
     ]
    },
    {
     "data": {
      "text/plain": [
       "<matplotlib.legend.Legend at 0x29a2ac13e90>"
      ]
     },
     "execution_count": 65,
     "metadata": {},
     "output_type": "execute_result"
    },
    {
     "data": {
      "image/png": "[encoded data removed]",
      "text/plain": [
       "<Figure size 640x480 with 1 Axes>"
      ]
     },
     "metadata": {},
     "output_type": "display_data"
    }
   ],
   "source": [
    "sns.histplot(y_pred, label='prediction', color='red', alpha=0.5, bins=50)\n",
    "sns.histplot(y_val, label='target', color='blue',  alpha=0.5, bins=50)\n",
    "plt.legend()"
   ]
  },
  {
   "cell_type": "markdown",
   "metadata": {},
   "source": [
    "### Regularizacao\n",
    "\n",
    "- $min_w || Xw - y||^2 _2 + C||w||^2$ -> Rigde\n",
    "- $min_w || Xw - y||^2 _2 + C||w||$ -> Lasso\n",
    "\t- Tirar a derivada da função de custo em ralação W.\n",
    "\t- E igualar a zero."
   ]
  }
 ],
 "metadata": {
  "kernelspec": {
   "display_name": "mba_wed_scraping",
   "language": "python",
   "name": "python3"
  },
  "language_info": {
   "codemirror_mode": {
    "name": "ipython",
    "version": 3
   },
   "file_extension": ".py",
   "mimetype": "text/x-python",
   "name": "python",
   "nbconvert_exporter": "python",
   "pygments_lexer": "ipython3",
   "version": "3.10.13"
  }
 },
 "nbformat": 4,
 "nbformat_minor": 2
}
