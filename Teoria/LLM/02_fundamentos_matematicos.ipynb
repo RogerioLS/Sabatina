{
 "cells": [
  {
   "cell_type": "markdown",
   "metadata": {},
   "source": [
    "### Derivadas Parciais e Gradientes\n",
    "\n",
    "O que são derivadas parciais?\n",
    "\n",
    "Em um modelo de aprendizado de máquina, a função que queremos otimizar é uma **função de erro ou perda** (por exemplo, a **função de perda de entropia cruzada** para classificação). Essa finção depende de vários parâmetros (como pesos de redes neurais). As **derivadas parciais** medem como a função de erro muda em relação a cada parâmetro individualmente, enquanto os outros parâmetros permanecem constantes.\n",
    "\n",
    "🔹**Derivadas Parciais** A derivada parcial de uma função $f(x_1, x_2, \\dots, x_n)$ em relação a $x_i$ é a taxa de variação de $f$ quando $x_i$ muda, enquanto as outras variáveis são mantidas constantes.\\\n",
    "Por exemplo, se temos uma função de perda $L(w_1, w_2)$, as derivadas parciais seriam:\n",
    "$$\\frac{\\partial L}{\\partial w_1} \\quad \\text{e} \\quad \\frac{\\partial L}{\\partial w_2}$$\n",
    "Aqui,  $w_1$ e $w_2$ são os pesos da rede neural.\n",
    "\n",
    "O que são Gradientes?\n",
    "\n",
    "O gradiente é um vetor que contém todas as derivadas parciais de uma função de erro. Quando treinamos uma rede neural, o gradiente nos diz em qual direção e com qual magnitude devemos ajustar os pesos para reduzir a função de perda.\n",
    "\n",
    "🔹O gradiente de uma função $f(w_1, w_2, \\dots, w_n)$ é dado por:\n",
    "$$\\nabla f(w_1, w_2, \\dots, w_n) = \\left( \\frac{\\partial f}{\\partial w_1}, \\frac{\\partial f}{\\partial w_2}, \\dots, \\frac{\\partial f}{\\partial w_n} \\right)$$\n",
    "\n",
    "Em rede neurais, utiliza o algoritmo de backpropagation usa o gradiente para ajustar os pesos da rede, calculando as derivadas parciais da função de erro em relação aos pesos e aplicando esses ajustes em cada camada.\n",
    "\n",
    "**Exemplo**\n",
    "\n",
    "Se estamos treinando uma rede neural para prever a próxima palavra em uma sequência de texto (como em um modelo de linguagem), queremos minimizar a função de perda (por exempl, a perda de entropia cruzada) com relação aos pesos da rede. Isso é feito calculando o gradiente da função de erro e atualizando os pesos.\n",
    "\n",
    "🔹Digamos que nossa função de perda seja $L = (y - \\hat{y})^2$, onde $y$ é o valor real e $/hat{y}$ é previsão.\\\n",
    "🔹O gradiente de $L$ com relação ao peso $w$ seria:\n",
    "\n",
    "$$\\frac{\\partial L}{\\partial w} = 2 (y - \\hat{y}) \\cdot \\frac{\\partial \\hat{y}}{\\partial w}$$\n",
    "\n",
    "Esse gradiente é enteão usado para atualizar os pesos da rede neural durante o treinamento.\n"
   ]
  },
  {
   "cell_type": "code",
   "execution_count": null,
   "metadata": {
    "vscode": {
     "languageId": "plaintext"
    }
   },
   "outputs": [],
   "source": [
    "import numpy as np\n",
    "import matplotlib.pyplot as plt\n",
    "import matplotlib.animation as animation\n",
    "\n",
    "# Função de erro (função quadrática)\n",
    "def L(w):\n",
    "    return (w - 2)**2\n",
    "\n",
    "# Derivada da função de erro\n",
    "def grad_L(w):\n",
    "    return 2 * (w - 2)\n",
    "\n",
    "# Gradiente Descendente\n",
    "def gradient_descent(starting_w, learning_rate, iterations):\n",
    "    w_values = [starting_w]  # Ponto inicial\n",
    "    for i in range(iterations):\n",
    "        grad = grad_L(w_values[-1])\n",
    "        new_w = w_values[-1] - learning_rate * grad  # Atualiza o peso\n",
    "        w_values.append(new_w)\n",
    "    return w_values\n",
    "\n",
    "# Parâmetros\n",
    "starting_w = 5.0  # Ponto de início\n",
    "learning_rate = 0.1  # Taxa de aprendizado\n",
    "iterations = 20  # Número de iterações\n",
    "\n",
    "# Executando o Gradiente Descendente\n",
    "w_values = gradient_descent(starting_w, learning_rate, iterations)\n",
    "\n",
    "# Gerando o gráfico\n",
    "fig, ax = plt.subplots()\n",
    "w = np.linspace(0, 4, 100)\n",
    "ax.plot(w, L(w), label=\"Função de erro (L(w) = (w - 2)^2)\", color=\"blue\")\n",
    "ax.set_xlim(0, 5)\n",
    "ax.set_ylim(0, 10)\n",
    "\n",
    "# Ponto de mínimo\n",
    "ax.scatter(2, 0, color=\"red\", label=\"Mínimo (w = 2)\")\n",
    "\n",
    "# Animação\n",
    "line, = ax.plot([], [], 'ro', label='Progresso do Gradiente')\n",
    "\n",
    "def update(frame):\n",
    "    line.set_data(w_values[:frame], L(np.array(w_values[:frame])))\n",
    "    return line,\n",
    "\n",
    "ani = animation.FuncAnimation(fig, update, frames=len(w_values), interval=500, repeat=False)\n",
    "\n",
    "# Exibindo o gráfico animado\n",
    "plt.legend()\n",
    "plt.title(\"Gradiente Descendente para Minimizar L(w)\")\n",
    "plt.show()\n",
    "\n",
    "# Para salvar a animação em um arquivo gif, podemos usar:\n",
    "# ani.save('gradient_descent.gif', writer='imagemagick', fps=2)"
   ]
  },
  {
   "cell_type": "markdown",
   "metadata": {},
   "source": []
  },
  {
   "cell_type": "markdown",
   "metadata": {},
   "source": []
  },
  {
   "cell_type": "markdown",
   "metadata": {},
   "source": []
  }
 ],
 "metadata": {
  "kernelspec": {
   "display_name": "base",
   "language": "python",
   "name": "python3"
  },
  "language_info": {
   "codemirror_mode": {
    "name": "ipython",
    "version": 3
   },
   "file_extension": ".py",
   "mimetype": "text/x-python",
   "name": "python",
   "nbconvert_exporter": "python",
   "pygments_lexer": "ipython3",
   "version": "3.11.7"
  }
 },
 "nbformat": 4,
 "nbformat_minor": 2
}
