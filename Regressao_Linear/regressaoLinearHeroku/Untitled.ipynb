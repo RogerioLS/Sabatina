{
 "cells": [
  {
   "cell_type": "code",
   "execution_count": null,
   "id": "a22ab14e-9c24-4999-ad90-87ddcfe1a5fd",
   "metadata": {},
   "outputs": [],
   "source": [
    "!streamlit run machineLearning.py "
   ]
  }
 ],
 "metadata": {
  "kernelspec": {
   "display_name": "Python 3 (ipykernel)",
   "language": "python",
   "name": "python3"
  },
  "language_info": {
   "codemirror_mode": {
    "name": "ipython",
    "version": 3
   },
   "file_extension": ".py",
   "mimetype": "text/x-python",
   "name": "python",
   "nbconvert_exporter": "python",
   "pygments_lexer": "ipython3",
   "version": "3.8.15"
  }
 },
 "nbformat": 4,
 "nbformat_minor": 5
}
