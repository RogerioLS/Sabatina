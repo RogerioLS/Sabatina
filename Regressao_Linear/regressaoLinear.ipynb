{
 "cells": [
  {
   "cell_type": "markdown",
   "metadata": {},
   "source": [
    "<div class=\"admonition note alert alert-info\">\n",
    "<p class=\"first admonition-title\" style=\"font-weight: bold;\">EMENTA</p>\n",
    "<p class=\"last\">Vamos separar em dois nivéis de apreendizado.</p>\n",
    "1º Realizaremos um modelo simples e explicando o passo a passo matématicamente o que acontece com o modelo até ele encontrar a reta que melhor se encaixa entre os pontos.</p>\n",
    "<dd>\n",
    "<p> - Calculo modelo Regressão Linear populacional representado pela expressão: </p>\n",
    "    <p> <span class=\"fgvmath\"> $y$ = $\\beta_0 + \\beta_1.X + \\epsilon$ </span> </p>\n",
    "    \n",
    "<p> - Calculo da correlação dos nossos dados representado pela expressão: </p>\n",
    "   <p>  <span class=\"fgvmath\">$r(x,y)$ = $ \\frac {Sxy} {\\sqrt Sxx * Syy}$  </span> </p>\n",
    "    \n",
    "</dd>\n",
    "2º Usaremos a lib do <a class=\"reference internal\" href=\"https://scikit-learn.org/stable/modules/generated/sklearn.linear_model.LinearRegression.html\" title=\"sklearn.linear_model.Ridge\">\n",
    "    <span class=\"pre\">sklearn.linear_model.LinearRegression</span></code></a> para demonstrar a sua praticidade.</p>\n",
    "</div>"
   ]
  },
  {
   "cell_type": "markdown",
   "metadata": {},
   "source": [
    "# O que é Regressão Linear?\n",
    "\n",
    "---\n",
    "\n",
    "A Regressão Linear é uns dos algoritmos mas visto pelos cientista de dados no começo da carreira, e pra exemplificar de uma forma armonioza, vou exemplificar um tipo de problema que pode ser relvido com esse algorita.\n",
    "\n",
    "Digamos que você queira saber o preço de venda de uma casa sua e acredita que existe um relacionamento entre as variáveis que você está considerando (área construída, número de quartos e localização) com esse preço. Seria possível fazer uma análise de regressão baseado nas outras casas da cidade, obter os pesos para os parâmetros em um modelo Regressão Linear e inferir qual o preço de venda que você deve colocar.\n",
    "\n",
    "Ou até um mais simples que séria dizer o tamanho da asa de um pinguin dado a sua massa corporal, resumindo o objetivo da análise de regressão é explorar o relacionamento existente entre duas ou mais variáveis, visando obter informações sobre uma delas a partir dos valores conhecidas das outras.\n",
    "\n",
    "Vale lembrar de um ponto importante, mas muito desconhecido, é que nos nossos problemas do cotidiano, muitas variáveis x e y aparentam estar relacionadas uma com a outra, porém de maneira não determinística.\n",
    "\n",
    "Uma relação determínistica, por exemplo, é quando queremos saber a distância percorrida por um carro, mantendo velocidade constante $v$ ao longo de $\\Delta t$ segundos. Nesse exemplo, sabemos que a distância percorrida será $\\Delta s = v * \\Delta t$, pois as variáveis estão relacionadas deterministicamente.\n",
    "\n",
    "Vamos deixar um exemplo para tomar mais claro a explicação.\n",
    "\n",
    "---"
   ]
  },
  {
   "cell_type": "code",
   "execution_count": 1,
   "metadata": {},
   "outputs": [],
   "source": [
    "# importar pacotes necessários\n",
    "import numpy as np\n",
    "import matplotlib.pyplot as plt\n",
    "import pandas as pd\n",
    "import seaborn as sns\n",
    "\n",
    "%matplotlib inline\n"
   ]
  },
  {
   "cell_type": "code",
   "execution_count": 2,
   "metadata": {},
   "outputs": [
    {
     "data": {
      "image/png": "[encoded data removed]",
      "text/plain": [
       "<Figure size 1080x360 with 2 Axes>"
      ]
     },
     "metadata": {
      "needs_background": "light"
     },
     "output_type": "display_data"
    }
   ],
   "source": [
    "# exemplo de plots determinísticos\n",
    "# random = igual manter estatico.\n",
    "np.random.seed(42)\n",
    "det_x = np.arange(0, 10, 0.1)\n",
    "det_y = 2 * det_x + 3\n",
    "\n",
    "# transformando em data frame deterministicos\n",
    "series_det = pd.Series(det_y,det_x)\n",
    "df_det = pd.DataFrame(series_det, columns = ['det_y'])\n",
    "df_det.reset_index(drop = False, inplace = True)\n",
    "df_det = df_det.rename(columns = {'index':'det_x'})\n",
    "\n",
    "feature_name_det = \"det_x\"\n",
    "target_name_det = \"det_y\"\n",
    "data_det, target_det = df_det[[feature_name_det]], df_det[target_name_det]\n",
    "\n",
    "# exemplo de plots não determinísticos\n",
    "non_det_x = np.arange(0, 10, 0.1)\n",
    "non_det_y = 2 * non_det_x + np.random.normal(size=100)\n",
    "\n",
    "# transformando em data frame não deterministicos\n",
    "series = pd.Series(non_det_y,non_det_x)\n",
    "df_non = pd.DataFrame(series, columns = ['non_det_y'])\n",
    "df_non.reset_index(drop = False, inplace = True)\n",
    "df_non = df_non.rename(columns = {'index':'non_det_x'})\n",
    "\n",
    "feature_name_non = \"non_det_x\"\n",
    "target_name_non = \"non_det_y\"\n",
    "data_non, target_non = df_non[[feature_name_non]], df_non[target_name_non]\n",
    "\n",
    "plt.figure(figsize=(15,5), constrained_layout=False)\n",
    "\n",
    "ax = plt.subplot(1,2,1)\n",
    "ax = sns.scatterplot(data=df_det, x=feature_name_det, y=target_name_det,\n",
    "                     color=\"blue\", alpha=0.5)\n",
    "ax.set_title(\"Determinístico\")\n",
    "\n",
    "ax = plt.subplot(1,2,2)\n",
    "ax = sns.scatterplot(data=df_non, x=feature_name_non, y=target_name_non,\n",
    "                     color=\"blue\", alpha=0.5)\n",
    "ax.set_title(\"Não Determinístico\")\n",
    "\n",
    "_ = plt.show()"
   ]
  },
  {
   "cell_type": "markdown",
   "metadata": {},
   "source": [
    "<div class=\"alert alert-success\" role=\"alert\">\n",
    "Olhando rapidamente você já consegue ver uma diferença importante, que apesar dos dois gráficos estarem mostrando pontos que se espalham sobre uma “reta virtual”, um deles não segue um padrão exato, determinístico. Parece que há algum tipo de aleatoriedade envolvida.</p>\n",
    "Ou seja não temos uma relação perfeita entre as variavéis, isso significa que temos um modelo probabilístico, que captura a aleatoriedade que é inerente de qualquer processo do mundo real.</p>\n",
    "</div>"
   ]
  },
  {
   "cell_type": "markdown",
   "metadata": {},
   "source": [
    "# Matemática em ação calculo da Regressão Linear populacional\n",
    "---\n",
    "O calculo da Regressão Linear para encontrar um ponto que ainda não consta na base de dados pode ser definida pela expressão abaixo:\n",
    "\n",
    "$y$ = $\\beta_0 + \\beta_1.X + \\epsilon$\n",
    "\n",
    "$y$ $\\Rightarrow$ é a variável dependente, ou seja, o valor previsto.\n",
    "\n",
    "$\\beta_0$ $\\Rightarrow$ é o coeficiente que intercepta ou que corta o eixo y.\n",
    " \n",
    "$\\beta_1$ $\\Rightarrow$ é o coeficiente que define a inclinação da reta.\n",
    "\n",
    "$X$ $\\Rightarrow$ é a variável independente, ou seja, a variável preditora.\n",
    "\n",
    "Para representar a relação entre uma variável dependente ($y$) e uma variável independente ($x$), usamos o modelo\n",
    "que determina uma linha reta com inclinação $\\beta_1$ e intercepto $\\beta_0$, com a variável aleatória (erro) $\\varepsilon$, considerada normalmente distribuída com $E(\\varepsilon) = 0$.\n",
    "\n",
    "Para simplificar, vamos assumir a premissa de que o valor médio da variável $\\varepsilon$ para um dado valor de $x$ é $0$.\n",
    "\n",
    "Outro ponto é que vamos ter que criar novas colunas tais como:\n",
    "\n",
    "$\\Rightarrow$ $\\Sigma xiyi$\n",
    "\n",
    "$\\Rightarrow$ $\\Sigma xi^2$\n",
    "\n",
    "$\\Rightarrow$ $\\Sigma xi^2$\n",
    "\n",
    "---"
   ]
  },
  {
   "cell_type": "markdown",
   "metadata": {},
   "source": [
    "##### CALCULO $\\beta_1$\n",
    "O calcula de (inclinação)$\\beta_1$ = $ \\frac {n \\Sigma xiyi - \\Sigma xi \\Sigma yi} {n \\Sigma xi^2 - (\\Sigma xi)^2} $\n",
    "\n",
    "* $x$ $\\Rightarrow$ posição no eixo $X$ do plano cartesiano.\n",
    "* $y$ $\\Rightarrow$ posição no eixo $Y$ do plano cartesiano.\n",
    "* $i$ $\\Rightarrow$ se refere ao i'ésimo valor de $X$ e $Y$.\n",
    "* n $\\Rightarrow$ número de pares ordenados utilizado na base.\n",
    "* $\\Sigma \\Rightarrow$ letra grega que incida somatório."
   ]
  },
  {
   "cell_type": "code",
   "execution_count": 3,
   "metadata": {},
   "outputs": [],
   "source": [
    "# criando colunas necessárias para o calculo.\n",
    "df_non['non_det_xy'] = df_non['non_det_x'] * df_non['non_det_y']\n",
    "df_non['non_det_x^2'] = df_non['non_det_x'] ** 2\n",
    "df_non['non_det_y^2'] = df_non['non_det_y'] ** 2"
   ]
  },
  {
   "cell_type": "code",
   "execution_count": 4,
   "metadata": {},
   "outputs": [
    {
     "data": {
      "text/html": [
       "<div>\n",
       "<style scoped>\n",
       "    .dataframe tbody tr th:only-of-type {\n",
       "        vertical-align: middle;\n",
       "    }\n",
       "\n",
       "    .dataframe tbody tr th {\n",
       "        vertical-align: top;\n",
       "    }\n",
       "\n",
       "    .dataframe thead th {\n",
       "        text-align: right;\n",
       "    }\n",
       "</style>\n",
       "<table border=\"1\" class=\"dataframe\">\n",
       "  <thead>\n",
       "    <tr style=\"text-align: right;\">\n",
       "      <th></th>\n",
       "      <th>non_det_x</th>\n",
       "      <th>non_det_y</th>\n",
       "      <th>non_det_xy</th>\n",
       "      <th>non_det_x^2</th>\n",
       "      <th>non_det_y^2</th>\n",
       "    </tr>\n",
       "  </thead>\n",
       "  <tbody>\n",
       "    <tr>\n",
       "      <th>0</th>\n",
       "      <td>0.0</td>\n",
       "      <td>0.496714</td>\n",
       "      <td>0.000000</td>\n",
       "      <td>0.00</td>\n",
       "      <td>0.246725</td>\n",
       "    </tr>\n",
       "    <tr>\n",
       "      <th>1</th>\n",
       "      <td>0.1</td>\n",
       "      <td>0.061736</td>\n",
       "      <td>0.006174</td>\n",
       "      <td>0.01</td>\n",
       "      <td>0.003811</td>\n",
       "    </tr>\n",
       "    <tr>\n",
       "      <th>2</th>\n",
       "      <td>0.2</td>\n",
       "      <td>1.047689</td>\n",
       "      <td>0.209538</td>\n",
       "      <td>0.04</td>\n",
       "      <td>1.097651</td>\n",
       "    </tr>\n",
       "    <tr>\n",
       "      <th>3</th>\n",
       "      <td>0.3</td>\n",
       "      <td>2.123030</td>\n",
       "      <td>0.636909</td>\n",
       "      <td>0.09</td>\n",
       "      <td>4.507256</td>\n",
       "    </tr>\n",
       "    <tr>\n",
       "      <th>4</th>\n",
       "      <td>0.4</td>\n",
       "      <td>0.565847</td>\n",
       "      <td>0.226339</td>\n",
       "      <td>0.16</td>\n",
       "      <td>0.320182</td>\n",
       "    </tr>\n",
       "  </tbody>\n",
       "</table>\n",
       "</div>"
      ],
      "text/plain": [
       "   non_det_x  non_det_y  non_det_xy  non_det_x^2  non_det_y^2\n",
       "0        0.0   0.496714    0.000000         0.00     0.246725\n",
       "1        0.1   0.061736    0.006174         0.01     0.003811\n",
       "2        0.2   1.047689    0.209538         0.04     1.097651\n",
       "3        0.3   2.123030    0.636909         0.09     4.507256\n",
       "4        0.4   0.565847    0.226339         0.16     0.320182"
      ]
     },
     "execution_count": 4,
     "metadata": {},
     "output_type": "execute_result"
    }
   ],
   "source": [
    "df_non.head()"
   ]
  },
  {
   "cell_type": "code",
   "execution_count": 5,
   "metadata": {},
   "outputs": [],
   "source": [
    "n = 100\n",
    "sigmaXi = sum(df_non['non_det_x'])\n",
    "sigmaYi= sum(df_non['non_det_y'])\n",
    "sigmaXiYi =sum(df_non['non_det_xy'])\n",
    "sigmaXi2 = sum(df_non['non_det_x^2'])"
   ]
  },
  {
   "cell_type": "code",
   "execution_count": 6,
   "metadata": {},
   "outputs": [
    {
     "name": "stdout",
     "output_type": "stream",
     "text": [
      "Número de pares ordenados utilizado na base: 100\n",
      "Somatorio da coluna X: 495.0\n",
      "Somatorio da coluna Y: 979.6153482605905\n",
      "Somatorio da coluna X e Y: 6527.205307231609\n",
      "Somatorio da coluna X ao quadrado: 3283.5000000000005\n"
     ]
    }
   ],
   "source": [
    "# certo \n",
    "print(f\"Número de pares ordenados utilizado na base: {n}\")\n",
    "print(f\"Somatorio da coluna X: {sigmaXi}\")\n",
    "print(f\"Somatorio da coluna Y: {sigmaYi}\")\n",
    "print(f\"Somatorio da coluna X e Y: {sigmaXiYi}\")\n",
    "print(f\"Somatorio da coluna X ao quadrado: {sigmaXi2}\")"
   ]
  },
  {
   "cell_type": "code",
   "execution_count": 33,
   "metadata": {},
   "outputs": [
    {
     "data": {
      "text/plain": [
       "2.0139325932693493"
      ]
     },
     "execution_count": 33,
     "metadata": {},
     "output_type": "execute_result"
    }
   ],
   "source": [
    "b1 = ((n * sigmaXiYi) - (sigmaXi * sigmaYi)) / ((n * sigmaXi2) - (sigmaXi ** 2))\n",
    "b1"
   ]
  },
  {
   "cell_type": "markdown",
   "metadata": {},
   "source": [
    "##### CALCULO $\\beta_0$\n",
    "O calculo de (intercepto)$\\beta_0$ = $ \\frac {\\Sigma yi - \\beta_1 \\Sigma xi} {n} $\n",
    "\n",
    "* $x$ $\\Rightarrow$ posição no eixo $X$ do plano cartesiano.\n",
    "* $y$ $\\Rightarrow$ posição no eixo $Y$ do plano cartesiano.\n",
    "* $i$ $\\Rightarrow$ se refere ao i'ésimo valor de $X$ e $Y$.\n",
    "* n $\\Rightarrow$ número de pares ordenados utilizado na base.\n",
    "* $\\Sigma \\Rightarrow$ letra grega que incida somatório."
   ]
  },
  {
   "cell_type": "code",
   "execution_count": 34,
   "metadata": {},
   "outputs": [],
   "source": [
    "n = 100\n",
    "sigmaXi = sum(df_non['non_det_x'])\n",
    "sigmaYi = sum(df_non['non_det_y'])"
   ]
  },
  {
   "cell_type": "code",
   "execution_count": 35,
   "metadata": {},
   "outputs": [
    {
     "name": "stdout",
     "output_type": "stream",
     "text": [
      "Número de pares ordenados utilizado na base: 100\n",
      "Somatorio da coluna X: 495.0\n",
      "Somatorio da coluna Y: 979.6153482605905\n",
      "Coeficiente que define a inclinação da reta: 2.0139325932693493\n"
     ]
    }
   ],
   "source": [
    "print(f\"Número de pares ordenados utilizado na base: {n}\")\n",
    "print(f\"Somatorio da coluna X: {sigmaXi}\")\n",
    "print(f\"Somatorio da coluna Y: {sigmaYi}\")\n",
    "print(f\"Coeficiente que define a inclinação da reta: {b1}\")"
   ]
  },
  {
   "cell_type": "code",
   "execution_count": 36,
   "metadata": {},
   "outputs": [
    {
     "data": {
      "text/plain": [
       "-0.17281285407737415"
      ]
     },
     "execution_count": 36,
     "metadata": {},
     "output_type": "execute_result"
    }
   ],
   "source": [
    "b0 = ((sigmaYi) - (b1 * sigmaXi)) / n\n",
    "b0"
   ]
  },
  {
   "cell_type": "code",
   "execution_count": 44,
   "metadata": {},
   "outputs": [
    {
     "name": "stdout",
     "output_type": "stream",
     "text": [
      "y = -0.17281285407737415 + 2.0139325932693493 * X\n"
     ]
    }
   ],
   "source": [
    "# ficaria assim nossa formula final:\n",
    "# b0 é o menor custo que ele pode ter.\n",
    "# b1 vai +/- ser duas vezes o valor.\n",
    "print(f\"y = {b0} + {b1} * X\")"
   ]
  },
  {
   "cell_type": "code",
   "execution_count": 46,
   "metadata": {},
   "outputs": [
    {
     "data": {
      "text/plain": [
       "9.1919737046251"
      ]
     },
     "execution_count": 46,
     "metadata": {},
     "output_type": "execute_result"
    }
   ],
   "source": [
    "# input do valor de x que não consta em nossos dados.\n",
    "x = 4.65\n",
    "y = b0 + (b1 * x)\n",
    "y"
   ]
  },
  {
   "cell_type": "code",
   "execution_count": 47,
   "metadata": {},
   "outputs": [
    {
     "data": {
      "image/png": "[encoded data removed]",
      "text/plain": [
       "<Figure size 432x288 with 1 Axes>"
      ]
     },
     "metadata": {
      "needs_background": "light"
     },
     "output_type": "display_data"
    }
   ],
   "source": [
    "# encontrando o ponto no grafico com os valores de X e Y\n",
    "point = pd.DataFrame({'x': [4.65], 'y': [9.19]})\n",
    "plt.figure(constrained_layout=True)\n",
    "ax = sns.scatterplot(data = df_non, x = feature_name_non, y = target_name_non, \n",
    "                     color = \"blue\", alpha = 0.5)\n",
    "\n",
    "#plt.plot([x], [y], marker='o', markersize=4, color=\"red\")\n",
    "\n",
    "label = \"x {0:.2f} e y {1:.2f}\"\n",
    "ax = point.plot(x='x', y='y', ax=ax, marker='o', markersize=4, color=\"red\", label=label.format(x, y))\n",
    "ax.legend(loc='center left', bbox_to_anchor=(-0.25, 1.25), ncol=1)\n",
    "\n",
    "eixo_x = x\n",
    "plt.axvline(x= eixo_x, ymin=0, ymax=0.47, color=\"black\", linestyle=\"--\")\n",
    "\n",
    "eixo_y = y\n",
    "plt.axhline(y= eixo_y, xmin=0, xmax=0.465, color=\"black\", linestyle=\"--\")\n",
    "\n",
    "plt.annotate(\"Ponto Calculado\", (.65, 9.5), fontsize=15)\n",
    "\n",
    "_ = ax.set_title(\"Não Determinístico\")"
   ]
  },
  {
   "cell_type": "code",
   "execution_count": 14,
   "metadata": {},
   "outputs": [],
   "source": [
    "def linear_model(x, beta_um, beta_zero):\n",
    "    \"\"\"Linear model funcao y = a * x + b\"\"\"\n",
    "    y = x * beta_um + beta_zero\n",
    "    return y"
   ]
  },
  {
   "cell_type": "code",
   "execution_count": 15,
   "metadata": {},
   "outputs": [],
   "source": [
    "reta_ajuste = linear_model(df_non['non_det_x'], b1, b0)"
   ]
  },
  {
   "cell_type": "code",
   "execution_count": 16,
   "metadata": {},
   "outputs": [
    {
     "data": {
      "image/png": "[encoded data removed]",
      "text/plain": [
       "<Figure size 432x288 with 1 Axes>"
      ]
     },
     "metadata": {
      "needs_background": "light"
     },
     "output_type": "display_data"
    }
   ],
   "source": [
    "# Plot da reta de melhor ajuste\n",
    "plt.figure(constrained_layout=True)\n",
    "ax = sns.scatterplot(data=df_non, x=feature_name_non, y=target_name_non,\n",
    "                     color=\"blue\", alpha=0.5)\n",
    "\n",
    "label = \"Reta de melhor ajuste com b1 {0:.2f} * x + b0 {1:.2f}\"\n",
    "#plt.plot(non_det_x, ((non_det_x * b1) + b0),  color='r', linestyle='--', linewidth=2)\n",
    "#ax.plot(non_det_x, reta_ajuste,  color='r', linestyle='--', linewidth=2)\n",
    "ax.plot(df_non['non_det_x'], reta_ajuste, color='r', linestyle='--', linewidth=2 ,label=label.format(b1, b0))\n",
    "ax.legend(loc='center left', bbox_to_anchor=(-0.25, 1.25), ncol=1)\n",
    "_ = ax.set_title(\"Não Determinístico\")\n",
    "#_ = ax.set_title(label.format(b1, b0))"
   ]
  },
  {
   "cell_type": "markdown",
   "metadata": {},
   "source": [
    "Acredito que vale a pena fazermos retas que não faz sentido no nosso modelo só para fins didaticos, pra isso vamos estipular alguns valores para $b1$ e $b0$ "
   ]
  },
  {
   "cell_type": "code",
   "execution_count": 17,
   "metadata": {},
   "outputs": [
    {
     "data": {
      "image/png": "[encoded data removed]",
      "text/plain": [
       "<Figure size 432x288 with 1 Axes>"
      ]
     },
     "metadata": {
      "needs_background": "light"
     },
     "output_type": "display_data"
    }
   ],
   "source": [
    "b_um = [1.01, 2.01, -1.59]\n",
    "b_zero = [-2.1, -0.17, 17]\n",
    "\n",
    "plt.figure(constrained_layout=True)\n",
    "ax = sns.scatterplot(data=df_non, x=feature_name_non, y=target_name_non,\n",
    "                     color=\"blue\", alpha=0.5)\n",
    "\n",
    "label = \"b1 {0:.2f} * x + b0 {1:.2f}\"\n",
    "for b1, b0 in zip(b_um, b_zero):\n",
    "    reta_ajuste = linear_model(df_non['non_det_x'], b1, b0)\n",
    "    ax.plot(df_non['non_det_x'], reta_ajuste,\n",
    "            label=label.format(b1, b0))\n",
    "\n",
    "ax.legend(loc='center left', bbox_to_anchor=(-0.25, 1.25), ncol=1)\n",
    "_ = ax.set_title(\"Não Determinístico\") "
   ]
  },
  {
   "cell_type": "markdown",
   "metadata": {},
   "source": [
    "# Calculo da correlação dos nossos dados\n",
    "---\n",
    "#### O que é correlação?\n",
    "\n",
    "A função do coeficiente de correlação é determinar qual é a intensidade da relação que existe entre conjuntos de dados ou informações conhecidas. O valor do coeficiente de correlação pode variar entre -1 e 1 e o resultado obtido define se a correlação é negativa ou positiva\n",
    "\n",
    "![Predictor fit diagram](imagens/correlacao_p.png)\n",
    "\n",
    "---\n",
    "\n",
    "#### Expressão da correlação.\n",
    "\n",
    "O calculo da expressão de correlação para encontrar se o nosso conjunto de dados tem uma forte ou baixa correlação pode ser definida pela expressão abaixo:\n",
    "\n",
    "$r(x,y)$ = $ \\frac {Sxy} {\\sqrt Sxx * Syy}$ \n",
    "\n",
    "Sxx é o:\n",
    "\n",
    "* Desvio-padrão de x:\n",
    "\n",
    "$Sxx$ = $ \\frac {\\Sigma xi^2 - (\\Sigma xi)^2} {n}$\n",
    "\n",
    "Syy é o:\n",
    "\n",
    "* Desvio-padrão de y:\n",
    "\n",
    "$Sxx$ = $ \\frac {\\Sigma yi^2 - (\\Sigma yi)^2} {n}$\n",
    "\n",
    "Sxy é a:\n",
    "\n",
    "* covariância de x, y:\n",
    "\n",
    "$Sxy$ = $ \\frac {\\Sigma xiyi - (\\Sigma xi * \\Sigma yi)} {n}$\n",
    "\n",
    "* $x$ $\\Rightarrow$ posição no eixo $X$ do plano cartesiano.\n",
    "* $y$ $\\Rightarrow$ posição no eixo $Y$ do plano cartesiano.\n",
    "* $i$ $\\Rightarrow$ se refere ao i'ésimo valor de $X$ e $Y$.\n",
    "* n $\\Rightarrow$ número de pares ordenados utilizado na base.\n",
    "* $\\Sigma \\Rightarrow$ letra grega que significa somatório."
   ]
  },
  {
   "cell_type": "code",
   "execution_count": 18,
   "metadata": {},
   "outputs": [],
   "source": [
    "n = 100\n",
    "sigmaXi = sum(df_non['non_det_x'])\n",
    "sigmaYi= sum(df_non['non_det_y'])\n",
    "sigmaXiYi =sum(df_non['non_det_xy'])\n",
    "sigmaXi2 = sum(df_non['non_det_x^2'])\n",
    "sigmaYi2 = sum(df_non['non_det_y^2'])"
   ]
  },
  {
   "cell_type": "code",
   "execution_count": 19,
   "metadata": {},
   "outputs": [
    {
     "name": "stdout",
     "output_type": "stream",
     "text": [
      "Número de pares ordenados utilizado na base: 100\n",
      "Somatorio da coluna X: 495.0\n",
      "Somatorio da coluna Y: 979.6153482605905\n",
      "Somatorio da coluna X e Y: 6527.205307231609\n",
      "Somatorio da coluna Y ao quadrado: 13057.55185831332\n",
      "Somatorio da coluna X ao quadrado: 3283.5000000000005\n"
     ]
    }
   ],
   "source": [
    "print(f\"Número de pares ordenados utilizado na base: {n}\")\n",
    "print(f\"Somatorio da coluna X: {sigmaXi}\")\n",
    "print(f\"Somatorio da coluna Y: {sigmaYi}\")\n",
    "print(f\"Somatorio da coluna X e Y: {sigmaXiYi}\")\n",
    "print(f\"Somatorio da coluna Y ao quadrado: {sigmaYi2}\")\n",
    "print(f\"Somatorio da coluna X ao quadrado: {sigmaXi2}\")"
   ]
  },
  {
   "cell_type": "code",
   "execution_count": 20,
   "metadata": {},
   "outputs": [
    {
     "data": {
      "text/plain": [
       "833.2500000000005"
      ]
     },
     "execution_count": 20,
     "metadata": {},
     "output_type": "execute_result"
    }
   ],
   "source": [
    "sxx = sigmaXi2 - (sigmaXi ** 2) / 100\n",
    "sxx"
   ]
  },
  {
   "cell_type": "code",
   "execution_count": 21,
   "metadata": {},
   "outputs": [
    {
     "data": {
      "text/plain": [
       "3461.08955283614"
      ]
     },
     "execution_count": 21,
     "metadata": {},
     "output_type": "execute_result"
    }
   ],
   "source": [
    "syy = sigmaYi2 - (sigmaYi ** 2) / 100\n",
    "syy"
   ]
  },
  {
   "cell_type": "code",
   "execution_count": 22,
   "metadata": {},
   "outputs": [
    {
     "data": {
      "text/plain": [
       "1678.1093333416866"
      ]
     },
     "execution_count": 22,
     "metadata": {},
     "output_type": "execute_result"
    }
   ],
   "source": [
    "sxy = sigmaXiYi - (sigmaXi * sigmaYi) / 100\n",
    "sxy"
   ]
  },
  {
   "cell_type": "code",
   "execution_count": 23,
   "metadata": {},
   "outputs": [
    {
     "name": "stdout",
     "output_type": "stream",
     "text": [
      "Obtemos uma relação forte positiva de 98.82%, ou seja as variavéis X e Y se conversão\n"
     ]
    }
   ],
   "source": [
    "import math\n",
    "r = sxy / math.sqrt(sxx * syy)\n",
    "print(f\"Obtemos uma relação forte positiva de {np.around(r*100,2)}%, ou seja as variavéis X e Y se conversão\")"
   ]
  },
  {
   "cell_type": "markdown",
   "metadata": {},
   "source": [
    "# Utilizando a lib do sklearn\n",
    "---"
   ]
  },
  {
   "cell_type": "code",
   "execution_count": 24,
   "metadata": {},
   "outputs": [],
   "source": [
    "from sklearn.linear_model import LinearRegression\n",
    " \n",
    "lm_model = LinearRegression()\n",
    "lm_model.fit(non_det_x.reshape(-1,1), non_det_y)\n",
    "\n",
    "b1 = lm_model.coef_\n",
    "b0 = lm_model.intercept_"
   ]
  },
  {
   "cell_type": "code",
   "execution_count": 25,
   "metadata": {},
   "outputs": [
    {
     "name": "stdout",
     "output_type": "stream",
     "text": [
      "b0: \t-0.17281285407737457\n",
      "b1: \t2.0139325932693497\n"
     ]
    }
   ],
   "source": [
    "print(\"b0: \\t{}\".format(b0))\n",
    "print(\"b1: \\t{}\".format(b1[0]))"
   ]
  },
  {
   "cell_type": "code",
   "execution_count": 26,
   "metadata": {},
   "outputs": [
    {
     "data": {
      "image/png": "[encoded data removed]",
      "text/plain": [
       "<Figure size 432x288 with 1 Axes>"
      ]
     },
     "metadata": {
      "needs_background": "light"
     },
     "output_type": "display_data"
    }
   ],
   "source": [
    "# Plot da reta de melhor ajuste\n",
    "plt.figure(constrained_layout=True)\n",
    "ax = sns.scatterplot(data=df_non, x=feature_name_non, y=target_name_non,\n",
    "                     color=\"blue\", alpha=0.5)\n",
    "plt.plot(non_det_x, ((non_det_x * b1) + b0),  color='r', linestyle='--', linewidth=2)\n",
    "_= ax.set_title(\"Não Determinístico\")"
   ]
  },
  {
   "cell_type": "code",
   "execution_count": 27,
   "metadata": {},
   "outputs": [
    {
     "name": "stdout",
     "output_type": "stream",
     "text": [
      "Coeficiente de Determinação: 0.976455254882662\n"
     ]
    }
   ],
   "source": [
    "# imprimindo o coeficiente de determinação\n",
    "r_squared = lm_model.score(non_det_x.reshape(-1,1), non_det_y)\n",
    "print(f'Coeficiente de Determinação: {r_squared}')"
   ]
  }
 ],
 "metadata": {
  "kernelspec": {
   "display_name": "Python 3",
   "language": "python",
   "name": "python3"
  },
  "language_info": {
   "codemirror_mode": {
    "name": "ipython",
    "version": 3
   },
   "file_extension": ".py",
   "mimetype": "text/x-python",
   "name": "python",
   "nbconvert_exporter": "python",
   "pygments_lexer": "ipython3",
   "version": "3.8.5"
  }
 },
 "nbformat": 4,
 "nbformat_minor": 4
}
